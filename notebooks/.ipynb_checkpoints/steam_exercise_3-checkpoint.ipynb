{
 "cells": [
  {
   "cell_type": "markdown",
   "metadata": {},
   "source": [
    "# Steam Analysis \n",
    "\n",
    "Pavel Petruneac\n",
    "\n",
    "**Description:**\n",
    "\n",
    "This is an analysis of the Steam Dataset. Data was provided in a small and larger version via GCS and more info about this dataset can be found [here](https://steam.internet.byu.edu/). \n",
    "\n",
    "\n",
    "---\n",
    "\n",
    "\n"
   ]
  },
  {
   "cell_type": "markdown",
   "metadata": {},
   "source": [
    "# Exercise 3: Advanced\n",
    "\n",
    "If you still have time...be creative and impress us with something novel, do an analytics deep-dive or show off some machine learning. For instance, use supervised methods to make predictions or recommendations, or use network analysis on the friends table.\n",
    "\n",
    "---\n",
    "\n",
    "\n",
    "**Exercise 2 shows that monthly play time varies as the user uses the app (months after sign up), the number of friends the users connect to and the number of groups they join.**\n",
    "\n",
    "**This exercise tests the hypothesis that the play time is a function of the attributes mentioned above and the value can be predicted with the given data. If true, the model can be used to predict the user's play time and make suggestions / interventions to users to optimize the business metric.**\n",
    "\n",
    "**Data is read from BQ, stored in GCS, read back into RAM and a few models are used to test the hyothesis.**\n",
    "\n",
    "**At the end, models are compared and recommendations are provided.**\n",
    "\n"
   ]
  },
  {
   "cell_type": "markdown",
   "metadata": {},
   "source": [
    "## Reading the Data\n",
    "\n",
    "___"
   ]
  },
  {
   "cell_type": "markdown",
   "metadata": {},
   "source": [
    "> NOTE: \n",
    "- data (*steam_gaming_large*) is already saved in BQ; it will be read from there, loaded in GCS in sharded files and then loaded from there into this environement. \n",
    "\n",
    "\n",
    "**Note on how data was generated:**\n",
    "\n",
    "- exercise 2 shows how the play time, n friends, n groups and months from sign up time datasets were calculated and the tables the data was saved to. \n",
    "- the SQL query below (Query 1) shows how all these tables are joined together. Full outer joins are used to capture all data which was saved to `since_signup` BQ table. \n",
    "- if there is no value for n_frieds, n_groups or play hours for one user, the `null` value is replaced with `0`\n",
    "- data that does not contain months after sign up it is not included\n",
    "- the final data included in this analysis was grouped by steamid and months after singup and the attributes were summed up - see query in the cell below. \n",
    "\n",
    "\n",
    "[Query 1]: \n",
    "\n",
    "```\n",
    "SELECT \n",
    "CASE WHEN A.steamid is not null then A.steamid else 0 end as steamid, \n",
    "D.Type, A.loccountrycode, A.months_after_signup,\n",
    "CASE WHEN B.n_friends is not null then B.n_friends else 0 end as n_friends, \n",
    "CASE WHEN C.n_groups is not null then C.n_groups else 0 end as n_groups,\n",
    "CASE WHEN A.play_hours is not null then A.play_hours else 0 end as play_hours\n",
    "\n",
    "FROM `north-star-213610.pp_steam_analysis.play_time_since_signup` as A\n",
    "FULL JOIN \n",
    "`north-star-213610.pp_steam_analysis.friends_since_signup` as B\n",
    "on A.steamid = B.steamid and A.months_after_signup = B.months_after_signup \n",
    "FULL JOIN \n",
    "`north-star-213610.pp_steam_analysis.groups_since_signup` as C\n",
    "on B.steamid = C.steamid and B.months_after_signup = C.months_after_signup \n",
    "LEFT JOIN `north-star-213610.pp_steam_analysis.App_ID_Info` as D\n",
    "on A.appid = D.appid\n",
    "\n",
    "where A.months_after_signup is not null\n",
    "\n",
    "```\n"
   ]
  },
  {
   "cell_type": "markdown",
   "metadata": {},
   "source": [
    "Before you continue, make sure that you are authenticated with GCP. You can do it in a couple of ways: \n",
    "1. run `gcloud init` on your laptop terminal and follow instructions\n",
    "- if you run on GCP compute, allow the compute id read access to GCS bucket or \n",
    "- use a service account to authenticate on the terminal; can run something like \n",
    "\n",
    "    `gcloud auth activate-service-account *service_account_name* --key-file=credentials_file_path`, followed by \n",
    "    \n",
    "    `gcloud config set account *service_account_name*`\n",
    "    \n",
    "More info on authentication [here](https://cloud.google.com/sdk/gcloud/reference/auth/).   "
   ]
  },
  {
   "cell_type": "code",
   "execution_count": 3,
   "metadata": {},
   "outputs": [],
   "source": [
    "# # Authenticate to GCP with the service account + set the default account IF you run locally\n",
    "# # No need to do this if you run on GCP and have given GCS and BQ access to the compute ID. \n",
    "\n",
    "# import os \n",
    "\n",
    "\n",
    "# command = 'gcloud auth activate-service-account steam-analysis@north-star-213610.iam.gserviceaccount.com --key-file=../credentials/gcp_service_account.json'\n",
    "# with open('command.sh', 'w') as the_file:\n",
    "#   the_file.write(command)\n",
    "# # Copy files to GCS    \n",
    "# bashCommand = \"bash command.sh\"\n",
    "# os.system(bashCommand)\n",
    " \n",
    "# # Set default account \n",
    "# command = 'gcloud config set account steam-analysis@north-star-213610.iam.gserviceaccount.com'\n",
    "# with open('command.sh', 'w') as the_file:\n",
    "#   the_file.write(command)\n",
    "# # Copy files to GCS    \n",
    "# bashCommand = \"bash command.sh\"\n",
    "# os.system(bashCommand)\n",
    "\n",
    "# # Remove the command files\n",
    "# bashCommand = \"rm command.sh\"\n",
    "# os.system(bashCommand)"
   ]
  },
  {
   "cell_type": "code",
   "execution_count": 1,
   "metadata": {},
   "outputs": [
    {
     "name": "stdout",
     "output_type": "stream",
     "text": [
      "It will read steam_gaming_large dataset.\n"
     ]
    }
   ],
   "source": [
    "# Define global parameters\n",
    "project_id = 'north-star-213610' # the ID of GCP project \n",
    "gcs_bucket = 'pp_steam_analysis' # bucket name where data is stored\n",
    "dataset_bq = 'pp_steam_analysis' # BQ dataset name data will be loaded to\n",
    "\n",
    "# Define what dataset to read. True for small; False for large\n",
    "steam_gaming_small = False\n",
    "\n",
    "if steam_gaming_small:\n",
    "    dataset_type = \"steam_gaming_small\"\n",
    "else:\n",
    "    dataset_type = \"steam_gaming_large\"\n",
    "print(\"It will read {} dataset.\".format(dataset_type))    \n",
    "\n",
    "\n",
    "# GCP library imports\n",
    "from google.cloud import bigquery\n",
    "from google.cloud import storage\n",
    "\n",
    "# Deifne the GCP clients with the service account saved at path_service_account\n",
    "# If you run from local machine or don't have compute GCS & BQ permission\n",
    "# path_service_account = '../credentials/gcp_service_account.json'\n",
    "# client_storage = storage.Client.from_service_account_json(path_service_account)\n",
    "# client_bq = bigquery.Client.from_service_account_json(path_service_account)\n",
    "\n",
    "client_storage = storage.Client(project=project_id)\n",
    "client_bq = bigquery.Client(project=project_id)\n",
    "job_config = bigquery.QueryJobConfig()"
   ]
  },
  {
   "cell_type": "code",
   "execution_count": 5,
   "metadata": {},
   "outputs": [
    {
     "data": {
      "text/html": [
       "<div>\n",
       "<style scoped>\n",
       "    .dataframe tbody tr th:only-of-type {\n",
       "        vertical-align: middle;\n",
       "    }\n",
       "\n",
       "    .dataframe tbody tr th {\n",
       "        vertical-align: top;\n",
       "    }\n",
       "\n",
       "    .dataframe thead th {\n",
       "        text-align: right;\n",
       "    }\n",
       "</style>\n",
       "<table border=\"1\" class=\"dataframe\">\n",
       "  <thead>\n",
       "    <tr style=\"text-align: right;\">\n",
       "      <th></th>\n",
       "      <th>steamid</th>\n",
       "      <th>months_after_signup</th>\n",
       "      <th>n_friends</th>\n",
       "      <th>n_groups</th>\n",
       "      <th>play_hours</th>\n",
       "    </tr>\n",
       "  </thead>\n",
       "  <tbody>\n",
       "    <tr>\n",
       "      <th>0</th>\n",
       "      <td>76561197971719200</td>\n",
       "      <td>99.0</td>\n",
       "      <td>0</td>\n",
       "      <td>0</td>\n",
       "      <td>180.28</td>\n",
       "    </tr>\n",
       "    <tr>\n",
       "      <th>1</th>\n",
       "      <td>76561198065827868</td>\n",
       "      <td>15.0</td>\n",
       "      <td>0</td>\n",
       "      <td>0</td>\n",
       "      <td>0.38</td>\n",
       "    </tr>\n",
       "    <tr>\n",
       "      <th>2</th>\n",
       "      <td>76561198066033110</td>\n",
       "      <td>26.0</td>\n",
       "      <td>0</td>\n",
       "      <td>0</td>\n",
       "      <td>23.33</td>\n",
       "    </tr>\n",
       "    <tr>\n",
       "      <th>3</th>\n",
       "      <td>76561198003937226</td>\n",
       "      <td>67.0</td>\n",
       "      <td>0</td>\n",
       "      <td>0</td>\n",
       "      <td>107.58</td>\n",
       "    </tr>\n",
       "    <tr>\n",
       "      <th>4</th>\n",
       "      <td>76561197989010826</td>\n",
       "      <td>87.0</td>\n",
       "      <td>0</td>\n",
       "      <td>0</td>\n",
       "      <td>11.20</td>\n",
       "    </tr>\n",
       "    <tr>\n",
       "      <th>5</th>\n",
       "      <td>76561198028998682</td>\n",
       "      <td>34.0</td>\n",
       "      <td>26</td>\n",
       "      <td>0</td>\n",
       "      <td>345.08</td>\n",
       "    </tr>\n",
       "    <tr>\n",
       "      <th>6</th>\n",
       "      <td>76561198025242915</td>\n",
       "      <td>51.0</td>\n",
       "      <td>0</td>\n",
       "      <td>0</td>\n",
       "      <td>1.57</td>\n",
       "    </tr>\n",
       "    <tr>\n",
       "      <th>7</th>\n",
       "      <td>76561198076408883</td>\n",
       "      <td>22.0</td>\n",
       "      <td>0</td>\n",
       "      <td>0</td>\n",
       "      <td>548.94</td>\n",
       "    </tr>\n",
       "    <tr>\n",
       "      <th>8</th>\n",
       "      <td>76561198070803066</td>\n",
       "      <td>24.0</td>\n",
       "      <td>0</td>\n",
       "      <td>0</td>\n",
       "      <td>375.49</td>\n",
       "    </tr>\n",
       "    <tr>\n",
       "      <th>9</th>\n",
       "      <td>76561198074458746</td>\n",
       "      <td>22.0</td>\n",
       "      <td>0</td>\n",
       "      <td>0</td>\n",
       "      <td>654.54</td>\n",
       "    </tr>\n",
       "  </tbody>\n",
       "</table>\n",
       "</div>"
      ],
      "text/plain": [
       "             steamid  months_after_signup  n_friends  n_groups  play_hours\n",
       "0  76561197971719200                 99.0          0         0      180.28\n",
       "1  76561198065827868                 15.0          0         0        0.38\n",
       "2  76561198066033110                 26.0          0         0       23.33\n",
       "3  76561198003937226                 67.0          0         0      107.58\n",
       "4  76561197989010826                 87.0          0         0       11.20\n",
       "5  76561198028998682                 34.0         26         0      345.08\n",
       "6  76561198025242915                 51.0          0         0        1.57\n",
       "7  76561198076408883                 22.0          0         0      548.94\n",
       "8  76561198070803066                 24.0          0         0      375.49\n",
       "9  76561198074458746                 22.0          0         0      654.54"
      ]
     },
     "execution_count": 5,
     "metadata": {},
     "output_type": "execute_result"
    }
   ],
   "source": [
    "# Define the query \n",
    "query = \"\"\"SELECT steamid, months_after_signup,\n",
    "sum(n_friends) as n_friends,\n",
    "sum(n_groups) as n_groups,\n",
    "sum(play_hours) as play_hours \n",
    "FROM `north-star-213610.pp_steam_analysis.since_signup` \n",
    "where months_after_signup is not null\n",
    "group by 1,2\n",
    "\"\"\"\n",
    "\n",
    "# Show how the data looks like\n",
    "query_job = client_bq.query(query + \" LIMIT 10\", location='US')  # API request - starts the query\n",
    "query_job.result().to_dataframe()"
   ]
  },
  {
   "cell_type": "code",
   "execution_count": 6,
   "metadata": {},
   "outputs": [
    {
     "name": "stdout",
     "output_type": "stream",
     "text": [
      "There are 3672629 observation in this dataset.\n"
     ]
    }
   ],
   "source": [
    "# Read the whole dataset (as a query from BQ) and load it into a temporarily table in BQ\n",
    "table = \"since_signup_ml\"\n",
    "table_ref = client_bq.dataset(dataset_id = dataset_bq, project = project_id).table(table)\n",
    "job_config.destination = table_ref\n",
    "job_config.allow_large_results = True\n",
    "job_config.write_disposition = \"WRITE_TRUNCATE\" # overwrite \n",
    "query_job = client_bq.query(query, location='US', job_config=job_config)  # API request - starts the query\n",
    "query_job.result()\n",
    "\n",
    "query = \"\"\"SELECT count(*)\n",
    "FROM `north-star-213610.pp_steam_analysis.since_signup_ml` \n",
    "\"\"\"\n",
    "query_job = client_bq.query(query + \" LIMIT 10\", location='US')  # API request - starts the query\n",
    "n = query_job.result().to_dataframe()\n",
    "\n",
    "print(\"There are {} observation in this dataset.\".format(int(n.iloc[:,0])))"
   ]
  },
  {
   "cell_type": "code",
   "execution_count": 7,
   "metadata": {},
   "outputs": [
    {
     "name": "stdout",
     "output_type": "stream",
     "text": [
      " 121733085  2019-06-03T19:16:19Z  gs://pp_steam_analysis/data/interim/steam_gaming_large/since_signup_ml_000000000000.csv\r\n",
      "TOTAL: 1 objects, 121733085 bytes (116.09 MiB)\r\n"
     ]
    }
   ],
   "source": [
    "# Move the data from BQ to GCS in sharded csv files \n",
    "import os\n",
    "\n",
    "table_name = project_id + \":\" + dataset_bq + \".\" + table  \n",
    "file_name = table + '_*.csv'\n",
    "destination_uri = 'gs://{}/data/interim/{}/{}'.format(gcs_bucket, dataset_type, file_name)\n",
    "\n",
    "# Can also run the command on command line with *!*, but need to define env variables. \n",
    "command = \"bq --project_id=\" + project_id +  ' extract --print_header ' + table_name + \" \" + destination_uri \n",
    "with open('command.sh', 'w') as the_file:\n",
    "      the_file.write(command)\n",
    "bashCommand = \"bash command.sh\"\n",
    "os.system(bashCommand)\n",
    "            \n",
    "# Remove the command file\n",
    "bashCommand = \"rm command.sh\"\n",
    "os.system(bashCommand)    \n",
    "\n",
    "# list all files in GCS bucket: \n",
    "! gsutil ls -l gs://pp_steam_analysis/data/interim/steam_gaming_large/since_signup_ml_*"
   ]
  },
  {
   "cell_type": "code",
   "execution_count": 8,
   "metadata": {},
   "outputs": [
    {
     "name": "stdout",
     "output_type": "stream",
     "text": [
      "steamid,months_after_signup,n_friends,n_groups,play_hours\n",
      "76561197983891823,80,24,0,101.83\n",
      "76561197973870458,97,84,6,278.95\n",
      "76561197982557357,83,126,14,5.67\n",
      "76561197985518602,78,147,0,33.73\n",
      "76561197966"
     ]
    }
   ],
   "source": [
    "%%bash\n",
    "\n",
    "# Let's have a look at some data in GCS: \n",
    "export gcs_bucket=\"pp_steam_analysis\"\n",
    "# export dataset_type=\"steam_gaming_small\"\n",
    "export dataset_type=\"steam_gaming_large\"\n",
    "\n",
    "gsutil cat -r 0-200 gs://$gcs_bucket/data/interim/$dataset_type/since_signup_ml_*"
   ]
  },
  {
   "cell_type": "markdown",
   "metadata": {},
   "source": [
    "## Modelling \n",
    "___\n",
    "\n",
    "\n",
    "Aim: predicting the play hours for a user. \n",
    "\n",
    "Start with a base, simpler model and then can use a more complex one. The following methods will be explored: \n",
    "\n",
    "1. linear model with h2o library \n",
    "- auto ml with h2o library\n",
    "- neural networks with tensorflow\n",
    "\n",
    "h2o is a common library for data science work. It is easy to use and test and it has a autoML feature. After testing a simple, base liner model, the autoML funtion is used to test a few more complex models, particularily tree based models. After this, a neural network implementation with tensorflow is explored and results are presented. "
   ]
  },
  {
   "cell_type": "code",
   "execution_count": 1,
   "metadata": {
    "scrolled": false
   },
   "outputs": [
    {
     "name": "stdout",
     "output_type": "stream",
     "text": [
      "Checking whether there is an H2O instance running at http://localhost:54321 ..... not found.\n",
      "Attempting to start a local H2O server...\n",
      "  Java Version: openjdk version \"1.8.0_212\"; OpenJDK Runtime Environment (build 1.8.0_212-8u212-b01-1~deb9u1-b01); OpenJDK 64-Bit Server VM (build 25.212-b01, mixed mode)\n",
      "  Starting server from /opt/conda/anaconda/lib/python3.6/site-packages/h2o/backend/bin/h2o.jar\n",
      "  Ice root: /tmp/tmp9ptq9q2n\n",
      "  JVM stdout: /tmp/tmp9ptq9q2n/h2o_unknownUser_started_from_python.out\n",
      "  JVM stderr: /tmp/tmp9ptq9q2n/h2o_unknownUser_started_from_python.err\n",
      "  Server is running at http://127.0.0.1:54321\n",
      "Connecting to H2O server at http://127.0.0.1:54321 ... successful.\n"
     ]
    },
    {
     "data": {
      "text/html": [
       "<div style=\"overflow:auto\"><table style=\"width:50%\"><tr><td>H2O cluster uptime:</td>\n",
       "<td>02 secs</td></tr>\n",
       "<tr><td>H2O cluster timezone:</td>\n",
       "<td>UTC</td></tr>\n",
       "<tr><td>H2O data parsing timezone:</td>\n",
       "<td>UTC</td></tr>\n",
       "<tr><td>H2O cluster version:</td>\n",
       "<td>3.24.0.4</td></tr>\n",
       "<tr><td>H2O cluster version age:</td>\n",
       "<td>6 days </td></tr>\n",
       "<tr><td>H2O cluster name:</td>\n",
       "<td>H2O_from_python_unknownUser_bqx8ux</td></tr>\n",
       "<tr><td>H2O cluster total nodes:</td>\n",
       "<td>1</td></tr>\n",
       "<tr><td>H2O cluster free memory:</td>\n",
       "<td>21.33 Gb</td></tr>\n",
       "<tr><td>H2O cluster total cores:</td>\n",
       "<td>24</td></tr>\n",
       "<tr><td>H2O cluster allowed cores:</td>\n",
       "<td>24</td></tr>\n",
       "<tr><td>H2O cluster status:</td>\n",
       "<td>accepting new members, healthy</td></tr>\n",
       "<tr><td>H2O connection url:</td>\n",
       "<td>http://127.0.0.1:54321</td></tr>\n",
       "<tr><td>H2O connection proxy:</td>\n",
       "<td>None</td></tr>\n",
       "<tr><td>H2O internal security:</td>\n",
       "<td>False</td></tr>\n",
       "<tr><td>H2O API Extensions:</td>\n",
       "<td>Amazon S3, XGBoost, Algos, AutoML, Core V3, Core V4</td></tr>\n",
       "<tr><td>Python version:</td>\n",
       "<td>3.6.5 final</td></tr></table></div>"
      ],
      "text/plain": [
       "--------------------------  ---------------------------------------------------\n",
       "H2O cluster uptime:         02 secs\n",
       "H2O cluster timezone:       UTC\n",
       "H2O data parsing timezone:  UTC\n",
       "H2O cluster version:        3.24.0.4\n",
       "H2O cluster version age:    6 days\n",
       "H2O cluster name:           H2O_from_python_unknownUser_bqx8ux\n",
       "H2O cluster total nodes:    1\n",
       "H2O cluster free memory:    21.33 Gb\n",
       "H2O cluster total cores:    24\n",
       "H2O cluster allowed cores:  24\n",
       "H2O cluster status:         accepting new members, healthy\n",
       "H2O connection url:         http://127.0.0.1:54321\n",
       "H2O connection proxy:\n",
       "H2O internal security:      False\n",
       "H2O API Extensions:         Amazon S3, XGBoost, Algos, AutoML, Core V3, Core V4\n",
       "Python version:             3.6.5 final\n",
       "--------------------------  ---------------------------------------------------"
      ]
     },
     "metadata": {},
     "output_type": "display_data"
    },
    {
     "name": "stdout",
     "output_type": "stream",
     "text": [
      "Parse progress: |█████████████████████████████████████████████████████████| 100%\n",
      "Rows:3672629\n",
      "Cols:4\n",
      "\n",
      "\n"
     ]
    },
    {
     "data": {
      "text/html": [
       "<table>\n",
       "<thead>\n",
       "<tr><th>       </th><th>months_after_signup  </th><th>n_friends        </th><th>n_groups          </th><th>play_hours        </th></tr>\n",
       "</thead>\n",
       "<tbody>\n",
       "<tr><td>type   </td><td>int                  </td><td>int              </td><td>int               </td><td>real              </td></tr>\n",
       "<tr><td>mins   </td><td>8.0                  </td><td>0.0              </td><td>0.0               </td><td>0.0               </td></tr>\n",
       "<tr><td>mean   </td><td>45.97917431899598    </td><td>60.41216659782419</td><td>21.895359972379485</td><td>281.9343042844785 </td></tr>\n",
       "<tr><td>maxs   </td><td>129.0                </td><td>236600.0         </td><td>586755.0          </td><td>53488.41999999999 </td></tr>\n",
       "<tr><td>sigma  </td><td>28.398908100881368   </td><td>777.1526122748236</td><td>572.6917527191413 </td><td>652.1434100767962 </td></tr>\n",
       "<tr><td>zeros  </td><td>0                    </td><td>2889108          </td><td>3296393           </td><td>300466            </td></tr>\n",
       "<tr><td>missing</td><td>0                    </td><td>0                </td><td>0                 </td><td>0                 </td></tr>\n",
       "<tr><td>0      </td><td>80.0                 </td><td>24.0             </td><td>0.0               </td><td>101.83            </td></tr>\n",
       "<tr><td>1      </td><td>97.0                 </td><td>84.0             </td><td>6.0               </td><td>278.95            </td></tr>\n",
       "<tr><td>2      </td><td>83.0                 </td><td>126.0            </td><td>14.0              </td><td>5.67              </td></tr>\n",
       "<tr><td>3      </td><td>78.0                 </td><td>147.0            </td><td>0.0               </td><td>33.73             </td></tr>\n",
       "<tr><td>4      </td><td>106.0                </td><td>20.0             </td><td>10.0              </td><td>16.64             </td></tr>\n",
       "<tr><td>5      </td><td>43.0                 </td><td>10.0             </td><td>0.0               </td><td>136.25            </td></tr>\n",
       "<tr><td>6      </td><td>91.0                 </td><td>22.0             </td><td>0.0               </td><td>34.730000000000004</td></tr>\n",
       "<tr><td>7      </td><td>77.0                 </td><td>5950.0           </td><td>2142.0            </td><td>2458.4500000000003</td></tr>\n",
       "<tr><td>8      </td><td>43.0                 </td><td>40.0             </td><td>0.0               </td><td>540.36            </td></tr>\n",
       "<tr><td>9      </td><td>43.0                 </td><td>112.0            </td><td>0.0               </td><td>864.76            </td></tr>\n",
       "</tbody>\n",
       "</table>"
      ]
     },
     "metadata": {},
     "output_type": "display_data"
    }
   ],
   "source": [
    "# Import the data into RAM using h2o library\n",
    "import h2o\n",
    "h2o.init(max_mem_size=24)\n",
    "h2o.remove_all() # clean state - in case cluster was already running \n",
    "\n",
    "# As seen above, there is only one file.\n",
    "path_file = 'gs://pp_steam_analysis/data/interim/steam_gaming_large/since_signup_ml_000000000000.csv'\n",
    "df = h2o.import_file(path_file)\n",
    "\n",
    "# Drop the ID \n",
    "df = df.drop('steamid')\n",
    "df.describe()"
   ]
  },
  {
   "cell_type": "code",
   "execution_count": 2,
   "metadata": {},
   "outputs": [
    {
     "data": {
      "text/html": [
       "<table>\n",
       "<thead>\n",
       "<tr><th style=\"text-align: right;\">  months_after_signup</th><th style=\"text-align: right;\">  n_friends</th><th style=\"text-align: right;\">  n_groups</th><th style=\"text-align: right;\">  play_hours</th></tr>\n",
       "</thead>\n",
       "<tbody>\n",
       "<tr><td style=\"text-align: right;\">            1        </td><td style=\"text-align: right;\">  0.0373231</td><td style=\"text-align: right;\"> 0.0140014</td><td style=\"text-align: right;\">   0.0776885</td></tr>\n",
       "<tr><td style=\"text-align: right;\">            0.0373231</td><td style=\"text-align: right;\">  1        </td><td style=\"text-align: right;\"> 0.416924 </td><td style=\"text-align: right;\">   0.160183 </td></tr>\n",
       "<tr><td style=\"text-align: right;\">            0.0140014</td><td style=\"text-align: right;\">  0.416924 </td><td style=\"text-align: right;\"> 1        </td><td style=\"text-align: right;\">   0.0832015</td></tr>\n",
       "<tr><td style=\"text-align: right;\">            0.0776885</td><td style=\"text-align: right;\">  0.160183 </td><td style=\"text-align: right;\"> 0.0832015</td><td style=\"text-align: right;\">   1        </td></tr>\n",
       "</tbody>\n",
       "</table>"
      ]
     },
     "metadata": {},
     "output_type": "display_data"
    },
    {
     "data": {
      "text/plain": []
     },
     "execution_count": 2,
     "metadata": {},
     "output_type": "execute_result"
    }
   ],
   "source": [
    "# Check feature correlation --> feature do not appear to be correlated \n",
    "df.cor()"
   ]
  },
  {
   "cell_type": "code",
   "execution_count": 3,
   "metadata": {},
   "outputs": [],
   "source": [
    "# Split into train-val-test for 70-15-15 split\n",
    "\n",
    "train, val, test = df.split_frame(ratios=[0.7, 0.15], seed=42)\n",
    "x_cols = df.col_names[:-1]\n",
    "y_cols = df.col_names[-1]\n",
    "\n",
    "del df # saves memory"
   ]
  },
  {
   "cell_type": "markdown",
   "metadata": {},
   "source": [
    "### 1. Linear Model \n",
    "___\n",
    "\n",
    "Using h2o library, will train a base linear model using a Generalized Linear Estimator with no tuning parameters such as regularization values. "
   ]
  },
  {
   "cell_type": "code",
   "execution_count": 4,
   "metadata": {},
   "outputs": [
    {
     "name": "stdout",
     "output_type": "stream",
     "text": [
      "glm Model Build progress: |███████████████████████████████████████████████| 100%\n",
      "CPU times: user 84 ms, sys: 12 ms, total: 96 ms\n",
      "Wall time: 1.45 s\n"
     ]
    }
   ],
   "source": [
    "%%time \n",
    "\n",
    "from h2o.estimators.glm import H2OGeneralizedLinearEstimator as glm_h2o\n",
    "model_glm = glm_h2o(model_id='glm_v1', standardize = True) # to standardize features\n",
    "\n",
    "model_glm.train(x_cols, y_cols, training_frame=train, validation_frame=val)"
   ]
  },
  {
   "cell_type": "markdown",
   "metadata": {},
   "source": [
    "> **NOTE:** \n",
    "\n",
    "The model coefficients are shown below (normalised and non-normalised). The intercept is the mean value that y takes when x value is 0. The coefficients show what effect the features have on the final outcome. The most important feature appear to be *n_friends* and the coefficient can be translated as following: \n",
    "\n",
    "*for each addition of n_friends, there will be an increase of ~ 86 hours in terms of play time*\n",
    "\n"
   ]
  },
  {
   "cell_type": "code",
   "execution_count": 5,
   "metadata": {},
   "outputs": [
    {
     "name": "stdout",
     "output_type": "stream",
     "text": [
      "Coefficients: glm coefficients\n",
      "\n"
     ]
    },
    {
     "data": {
      "text/html": [
       "<div style=\"overflow:auto\"><table style=\"width:50%\"><tr><td><b>names</b></td>\n",
       "<td><b>coefficients</b></td>\n",
       "<td><b>standardized_coefficients</b></td></tr>\n",
       "<tr><td>Intercept</td>\n",
       "<td>206.1962203</td>\n",
       "<td>282.1360776</td></tr>\n",
       "<tr><td>months_after_signup</td>\n",
       "<td>1.4891746</td>\n",
       "<td>42.2913611</td></tr>\n",
       "<tr><td>n_friends</td>\n",
       "<td>0.1113015</td>\n",
       "<td>86.4073320</td></tr>\n",
       "<tr><td>n_groups</td>\n",
       "<td>0.0336521</td>\n",
       "<td>17.3476087</td></tr></table></div>"
      ],
      "text/plain": [
       "names                coefficients    standardized_coefficients\n",
       "-------------------  --------------  ---------------------------\n",
       "Intercept            206.196         282.136\n",
       "months_after_signup  1.48917         42.2914\n",
       "n_friends            0.111302        86.4073\n",
       "n_groups             0.0336521       17.3476"
      ]
     },
     "metadata": {},
     "output_type": "display_data"
    },
    {
     "data": {
      "text/plain": []
     },
     "execution_count": 5,
     "metadata": {},
     "output_type": "execute_result"
    }
   ],
   "source": [
    "model_glm._model_json['output']['coefficients_table']"
   ]
  },
  {
   "cell_type": "code",
   "execution_count": 7,
   "metadata": {
    "scrolled": false
   },
   "outputs": [
    {
     "name": "stderr",
     "output_type": "stream",
     "text": [
      "/opt/conda/anaconda/lib/python3.6/site-packages/matplotlib/cbook/deprecation.py:107: MatplotlibDeprecationWarning: Passing one of 'on', 'true', 'off', 'false' as a boolean is deprecated; use an actual boolean (True/False) instead.\n",
      "  warnings.warn(message, mplDeprecation, stacklevel=1)\n"
     ]
    },
    {
     "data": {
      "image/png": "[encoded data removed]",
      "text/plain": [
       "<Figure size 1008x720 with 1 Axes>"
      ]
     },
     "metadata": {},
     "output_type": "display_data"
    }
   ],
   "source": [
    "model_glm.std_coef_plot()\n"
   ]
  },
  {
   "cell_type": "markdown",
   "metadata": {},
   "source": [
    "**Model performance explanation **\n",
    "\n",
    "RMSE is a standardised regression metric to choose. The traing data shows an RMSE value of 642 while the validation data shows a slightly smaller value of 640. If the model was performing much better on the training tha validation, then it would have had an overfitting problem because the model could not generalize well enough. \n",
    "\n",
    "This case is not of cencern from this perspective as the difference is not that big. "
   ]
  },
  {
   "cell_type": "code",
   "execution_count": 8,
   "metadata": {},
   "outputs": [
    {
     "data": {
      "text/plain": [
       "642.405973829203"
      ]
     },
     "execution_count": 8,
     "metadata": {},
     "output_type": "execute_result"
    }
   ],
   "source": [
    "model_glm.rmse(train=True)"
   ]
  },
  {
   "cell_type": "code",
   "execution_count": 9,
   "metadata": {},
   "outputs": [
    {
     "data": {
      "text/plain": [
       "640.3190014450756"
      ]
     },
     "execution_count": 9,
     "metadata": {},
     "output_type": "execute_result"
    }
   ],
   "source": [
    "model_glm.rmse(valid=True)"
   ]
  },
  {
   "cell_type": "code",
   "execution_count": 10,
   "metadata": {
    "scrolled": false
   },
   "outputs": [
    {
     "name": "stdout",
     "output_type": "stream",
     "text": [
      "glm prediction progress: |████████████████████████████████████████████████| 100%\n",
      "RMSE for test dataset = 642.0.\n"
     ]
    }
   ],
   "source": [
    "# Get the predictions \n",
    "predictions = model_glm.predict(test_data=test)\n",
    "\n",
    "mse = h2o.model.regression.h2o_mean_squared_error(test['play_hours'], predictions)\n",
    "import numpy as np\n",
    "\n",
    "print(\"RMSE for test dataset = {}.\".format(round(np.sqrt(mse))))"
   ]
  },
  {
   "cell_type": "markdown",
   "metadata": {},
   "source": [
    "> **Final Note:**\n",
    "\n",
    "RMSE is a measure of how spread are the residuals or how concentrated is the data around the line of best fir. The RMSE value for this GLM model shows that the model has an error of 642 play hours (~= 27 days) in a month which is rather high. In other practical words the model can predict a value that cannot be trusted. \n",
    "\n",
    "This may indicate that the problem at hand is not linear. In the following sections will try other methods. "
   ]
  },
  {
   "cell_type": "markdown",
   "metadata": {},
   "source": [
    "### 2. AutoML with h2o\n",
    "\n",
    "___\n",
    "\n",
    "Will train using the AutoML library which includes a cross validation across multiple model families along with hyperparameters tuning for each model. The main interest is to train a tree based model to explore whether this will improve the results significantly. \n",
    "\n",
    "\n",
    "```\n",
    "The current version of AutoML trains and cross-validates a default Random Forest, an Extremely-Randomized Forest, a random grid of Gradient Boosting Machines (GBMs), a random grid of Deep Neural Nets & GLM is excluded here on purpose, and then trains two Stacked Ensemble models at the end:\n",
    "- One ensemble contains all the models (optimized for model performance), and \n",
    "- the second ensemble contains just the best performing model from each algorithm class/family (optimized for production use).\n",
    "```"
   ]
  },
  {
   "cell_type": "code",
   "execution_count": 12,
   "metadata": {},
   "outputs": [
    {
     "data": {
      "text/plain": [
       "True"
      ]
     },
     "execution_count": 12,
     "metadata": {},
     "output_type": "execute_result"
    }
   ],
   "source": [
    "# Check if xgboost is available \n",
    "h2o.estimators.xgboost.H2OXGBoostEstimator.available()"
   ]
  },
  {
   "cell_type": "code",
   "execution_count": 14,
   "metadata": {
    "scrolled": false
   },
   "outputs": [
    {
     "name": "stdout",
     "output_type": "stream",
     "text": [
      "AutoML progress: |████████████████████████████████████████████████████████| 100%\n",
      "CPU times: user 3.74 s, sys: 360 ms, total: 4.1 s\n",
      "Wall time: 18min 55s\n"
     ]
    }
   ],
   "source": [
    "%%time \n",
    "\n",
    "# Import the libray \n",
    "from h2o.automl import H2OAutoML\n",
    "\n",
    "# Define the model: trainng on GLM, GBM, random forests models. \n",
    "# does hyperparameters searches: \n",
    "autoML_model = H2OAutoML(max_models=10, seed=42, nfolds=5,\n",
    "                        keep_cross_validation_predictions=True, sort_metric='RMSE', stopping_metric='RMSE',\n",
    "                        exclude_algos = [\"DeepLearning\", \"GLM\"])\n",
    "autoML_model.train(x=x_cols, y=y_cols, training_frame=train)\n"
   ]
  },
  {
   "cell_type": "code",
   "execution_count": 17,
   "metadata": {},
   "outputs": [
    {
     "data": {
      "text/html": [
       "<table>\n",
       "<thead>\n",
       "<tr><th>model_id                                           </th><th style=\"text-align: right;\">  mean_residual_deviance</th><th style=\"text-align: right;\">   rmse</th><th style=\"text-align: right;\">   mse</th><th style=\"text-align: right;\">    mae</th><th style=\"text-align: right;\">    rmsle</th></tr>\n",
       "</thead>\n",
       "<tbody>\n",
       "<tr><td>GBM_5_AutoML_20190604_135540                       </td><td style=\"text-align: right;\">                  382224</td><td style=\"text-align: right;\">618.243</td><td style=\"text-align: right;\">382224</td><td style=\"text-align: right;\">325.57 </td><td style=\"text-align: right;\">nan      </td></tr>\n",
       "<tr><td>StackedEnsemble_AllModels_AutoML_20190604_135540   </td><td style=\"text-align: right;\">                  382487</td><td style=\"text-align: right;\">618.455</td><td style=\"text-align: right;\">382487</td><td style=\"text-align: right;\">326.142</td><td style=\"text-align: right;\">  3.08344</td></tr>\n",
       "<tr><td>XGBoost_1_AutoML_20190604_135540                   </td><td style=\"text-align: right;\">                  382517</td><td style=\"text-align: right;\">618.479</td><td style=\"text-align: right;\">382517</td><td style=\"text-align: right;\">325.32 </td><td style=\"text-align: right;\">nan      </td></tr>\n",
       "<tr><td>StackedEnsemble_BestOfFamily_AutoML_20190604_135540</td><td style=\"text-align: right;\">                  382540</td><td style=\"text-align: right;\">618.498</td><td style=\"text-align: right;\">382540</td><td style=\"text-align: right;\">326.612</td><td style=\"text-align: right;\">  3.09153</td></tr>\n",
       "<tr><td>GBM_4_AutoML_20190604_135540                       </td><td style=\"text-align: right;\">                  382704</td><td style=\"text-align: right;\">618.631</td><td style=\"text-align: right;\">382704</td><td style=\"text-align: right;\">326.202</td><td style=\"text-align: right;\">nan      </td></tr>\n",
       "<tr><td>GBM_3_AutoML_20190604_135540                       </td><td style=\"text-align: right;\">                  382763</td><td style=\"text-align: right;\">618.678</td><td style=\"text-align: right;\">382763</td><td style=\"text-align: right;\">326.381</td><td style=\"text-align: right;\">nan      </td></tr>\n",
       "<tr><td>GBM_2_AutoML_20190604_135540                       </td><td style=\"text-align: right;\">                  383033</td><td style=\"text-align: right;\">618.897</td><td style=\"text-align: right;\">383033</td><td style=\"text-align: right;\">326.702</td><td style=\"text-align: right;\">  3.08497</td></tr>\n",
       "<tr><td>GBM_1_AutoML_20190604_135540                       </td><td style=\"text-align: right;\">                  383450</td><td style=\"text-align: right;\">619.233</td><td style=\"text-align: right;\">383450</td><td style=\"text-align: right;\">327.191</td><td style=\"text-align: right;\">  3.09068</td></tr>\n",
       "<tr><td>XGBoost_2_AutoML_20190604_135540                   </td><td style=\"text-align: right;\">                  383541</td><td style=\"text-align: right;\">619.307</td><td style=\"text-align: right;\">383541</td><td style=\"text-align: right;\">323.92 </td><td style=\"text-align: right;\">nan      </td></tr>\n",
       "<tr><td>DRF_1_AutoML_20190604_135540                       </td><td style=\"text-align: right;\">                  384134</td><td style=\"text-align: right;\">619.785</td><td style=\"text-align: right;\">384134</td><td style=\"text-align: right;\">327.258</td><td style=\"text-align: right;\">  3.09145</td></tr>\n",
       "<tr><td>XRT_1_AutoML_20190604_135540                       </td><td style=\"text-align: right;\">                  384302</td><td style=\"text-align: right;\">619.921</td><td style=\"text-align: right;\">384302</td><td style=\"text-align: right;\">326.643</td><td style=\"text-align: right;\">  3.09495</td></tr>\n",
       "<tr><td>XGBoost_3_AutoML_20190604_135540                   </td><td style=\"text-align: right;\">                  384720</td><td style=\"text-align: right;\">620.258</td><td style=\"text-align: right;\">384720</td><td style=\"text-align: right;\">325.933</td><td style=\"text-align: right;\">  3.10007</td></tr>\n",
       "</tbody>\n",
       "</table>"
      ]
     },
     "metadata": {},
     "output_type": "display_data"
    },
    {
     "data": {
      "text/plain": []
     },
     "execution_count": 17,
     "metadata": {},
     "output_type": "execute_result"
    }
   ],
   "source": [
    "# The RMSE on the testing data for tree based model is better than in the previous case. \n",
    "leader_board = autoML_model.leaderboard\n",
    "leader_board.head(rows=leader_board.nrows)  "
   ]
  },
  {
   "cell_type": "code",
   "execution_count": 20,
   "metadata": {},
   "outputs": [
    {
     "name": "stdout",
     "output_type": "stream",
     "text": [
      "gbm prediction progress: |████████████████████████████████████████████████| 100%\n",
      "RMSE for test dataset = 617.0.\n"
     ]
    }
   ],
   "source": [
    "predictions = autoML_model.leader.predict(test)\n",
    "\n",
    "mse = h2o.model.regression.h2o_mean_squared_error(test['play_hours'], predictions)\n",
    "import numpy as np\n",
    "\n",
    "print(\"RMSE for test dataset = {}.\".format(round(np.sqrt(mse))))"
   ]
  },
  {
   "cell_type": "markdown",
   "metadata": {},
   "source": [
    "> **Note:** \n",
    "\n",
    "The Auto ML trained 10 models and the performance on the test data is overall better than for a GLM model. The best model is a GBM which has an RMSE of 617 play hours. As in the previous case, this error translates into ~25 days error which is quite a lot in practical terms. This means that when you want to predict the play hours for a user for a given month after sign up using the number of friends and users the user has, the prediction error gives a very wide estimate. "
   ]
  },
  {
   "cell_type": "markdown",
   "metadata": {},
   "source": [
    "#### Feature importance\n",
    "\n",
    "Importance generally provides a score that indicate how useful a variable is to final prediction. Importance is calculated for a single decision tree by the amount that each attribute split point improves the performance measure, weighted by the number of observations the node is responsible for. \n",
    "\n",
    "The graph below shows that `n_friends` is most important variable -- which is consistent with the coefficient of the GLM model. `months_after_sign_up` turns out to be the least important factor for this prediction (using the GBM model). The output of the analysis shows that the users play time is largely influenced by the community engagement (friends and groups) and least influenced by platform tenure. "
   ]
  },
  {
   "cell_type": "code",
   "execution_count": 23,
   "metadata": {},
   "outputs": [
    {
     "data": {
      "text/plain": [
       "<matplotlib.axes._subplots.AxesSubplot at 0x7f1bc495ada0>"
      ]
     },
     "execution_count": 23,
     "metadata": {},
     "output_type": "execute_result"
    },
    {
     "data": {
      "image/png": "[encoded data removed]",
      "text/plain": [
       "<Figure size 576x720 with 1 Axes>"
      ]
     },
     "metadata": {},
     "output_type": "display_data"
    }
   ],
   "source": [
    "import pandas as pd\n",
    "feat_importances = pd.Series(autoML_model.leader.varimp(True)['relative_importance'].values, index=autoML_model.leader.varimp(True)['variable'])\n",
    "feat_importances.nlargest(25).sort_values(ascending=True).plot(kind='barh', figsize=(8,10) )\n"
   ]
  },
  {
   "cell_type": "markdown",
   "metadata": {},
   "source": [
    "Another way to explore and interpret the model output is **SHAP** as explained in the [NIPS paper](http://papers.nips.cc/paper/7062-a-unified-approach-to-interpreting-model-predictions), but it is not considered here. SHAP can help visualise the importance of a predictor's specific values. "
   ]
  },
  {
   "cell_type": "markdown",
   "metadata": {},
   "source": [
    "### 3. Neural Networks with tensorflow\n",
    "___\n",
    "\n",
    "The first 2 models do not seem to give a very reliable prediction for the time users will spend on the platform. Previously, the feature importance and the value of the coefficients were identified and now will train a complex deep learning model which may improve the prediction. \n",
    "\n",
    "\n",
    "If the data does not fit in memory, a tensorflow generator can be used via `tf.data` to read data in batches - a sample function for this is presented in the Appendix. \n",
    "\n",
    "In this model, will load the data with h2o library as before. "
   ]
  },
  {
   "cell_type": "code",
   "execution_count": 75,
   "metadata": {},
   "outputs": [],
   "source": [
    "# ! pip install tensorflow==2.0.0-alpha0"
   ]
  },
  {
   "cell_type": "code",
   "execution_count": 103,
   "metadata": {},
   "outputs": [
    {
     "name": "stdout",
     "output_type": "stream",
     "text": [
      "tf version = 2.0.0-alpha0\n"
     ]
    }
   ],
   "source": [
    "import tensorflow as tf\n",
    "from tensorflow import feature_column as fc\n",
    "from tensorflow.keras import layers\n",
    "from tensorflow.keras.callbacks import ModelCheckpoint, EarlyStopping, TensorBoard, CSVLogger\n",
    "\n",
    "print(\"tf version = {}\".format(tf.__version__))"
   ]
  },
  {
   "cell_type": "code",
   "execution_count": 104,
   "metadata": {},
   "outputs": [
    {
     "name": "stdout",
     "output_type": "stream",
     "text": [
      "Checking whether there is an H2O instance running at http://localhost:54321 . connected.\n"
     ]
    },
    {
     "data": {
      "text/html": [
       "<div style=\"overflow:auto\"><table style=\"width:50%\"><tr><td>H2O cluster uptime:</td>\n",
       "<td>1 hour 22 mins</td></tr>\n",
       "<tr><td>H2O cluster timezone:</td>\n",
       "<td>UTC</td></tr>\n",
       "<tr><td>H2O data parsing timezone:</td>\n",
       "<td>UTC</td></tr>\n",
       "<tr><td>H2O cluster version:</td>\n",
       "<td>3.24.0.4</td></tr>\n",
       "<tr><td>H2O cluster version age:</td>\n",
       "<td>6 days </td></tr>\n",
       "<tr><td>H2O cluster name:</td>\n",
       "<td>H2O_from_python_unknownUser_xnwh7y</td></tr>\n",
       "<tr><td>H2O cluster total nodes:</td>\n",
       "<td>1</td></tr>\n",
       "<tr><td>H2O cluster free memory:</td>\n",
       "<td>20.69 Gb</td></tr>\n",
       "<tr><td>H2O cluster total cores:</td>\n",
       "<td>24</td></tr>\n",
       "<tr><td>H2O cluster allowed cores:</td>\n",
       "<td>24</td></tr>\n",
       "<tr><td>H2O cluster status:</td>\n",
       "<td>locked, healthy</td></tr>\n",
       "<tr><td>H2O connection url:</td>\n",
       "<td>http://localhost:54321</td></tr>\n",
       "<tr><td>H2O connection proxy:</td>\n",
       "<td>None</td></tr>\n",
       "<tr><td>H2O internal security:</td>\n",
       "<td>False</td></tr>\n",
       "<tr><td>H2O API Extensions:</td>\n",
       "<td>Amazon S3, XGBoost, Algos, AutoML, Core V3, Core V4</td></tr>\n",
       "<tr><td>Python version:</td>\n",
       "<td>3.6.5 final</td></tr></table></div>"
      ],
      "text/plain": [
       "--------------------------  ---------------------------------------------------\n",
       "H2O cluster uptime:         1 hour 22 mins\n",
       "H2O cluster timezone:       UTC\n",
       "H2O data parsing timezone:  UTC\n",
       "H2O cluster version:        3.24.0.4\n",
       "H2O cluster version age:    6 days\n",
       "H2O cluster name:           H2O_from_python_unknownUser_xnwh7y\n",
       "H2O cluster total nodes:    1\n",
       "H2O cluster free memory:    20.69 Gb\n",
       "H2O cluster total cores:    24\n",
       "H2O cluster allowed cores:  24\n",
       "H2O cluster status:         locked, healthy\n",
       "H2O connection url:         http://localhost:54321\n",
       "H2O connection proxy:\n",
       "H2O internal security:      False\n",
       "H2O API Extensions:         Amazon S3, XGBoost, Algos, AutoML, Core V3, Core V4\n",
       "Python version:             3.6.5 final\n",
       "--------------------------  ---------------------------------------------------"
      ]
     },
     "metadata": {},
     "output_type": "display_data"
    },
    {
     "name": "stdout",
     "output_type": "stream",
     "text": [
      "Parse progress: |█████████████████████████████████████████████████████████| 100%\n"
     ]
    }
   ],
   "source": [
    "# Import the data into RAM using h2o library\n",
    "import h2o\n",
    "h2o.init(max_mem_size=24)\n",
    "h2o.remove_all() # clean state - in case cluster was already running \n",
    "\n",
    "# As seen above, there is only one file.\n",
    "path_file = 'gs://pp_steam_analysis/data/interim/steam_gaming_large/since_signup_ml_000000000000.csv'\n",
    "df = h2o.import_file(path_file)\n",
    "\n",
    "# Drop the ID \n",
    "df = df.drop('steamid')\n",
    "\n",
    "# Split into train-val-test for 70-15-15 split\n",
    "train, val, test = df.split_frame(ratios=[0.7, 0.15], seed=42)\n",
    "x_cols = df.col_names[:-1]\n",
    "y_cols = df.col_names[-1]\n",
    "\n",
    "del df # saves memory"
   ]
  },
  {
   "cell_type": "code",
   "execution_count": 105,
   "metadata": {},
   "outputs": [
    {
     "data": {
      "text/html": [
       "<table>\n",
       "<thead>\n",
       "<tr><th style=\"text-align: right;\">  months_after_signup</th><th style=\"text-align: right;\">  n_friends</th><th style=\"text-align: right;\">  n_groups</th><th style=\"text-align: right;\">  play_hours</th></tr>\n",
       "</thead>\n",
       "<tbody>\n",
       "<tr><td style=\"text-align: right;\">             1.19783 </td><td style=\"text-align: right;\"> -0.0469762</td><td style=\"text-align: right;\">-0.0422767</td><td style=\"text-align: right;\">      101.83</td></tr>\n",
       "<tr><td style=\"text-align: right;\">             1.79644 </td><td style=\"text-align: right;\">  0.03031  </td><td style=\"text-align: right;\">-0.0306374</td><td style=\"text-align: right;\">      278.95</td></tr>\n",
       "<tr><td style=\"text-align: right;\">             1.30347 </td><td style=\"text-align: right;\">  0.0844103</td><td style=\"text-align: right;\">-0.0151185</td><td style=\"text-align: right;\">        5.67</td></tr>\n",
       "<tr><td style=\"text-align: right;\">             1.1274  </td><td style=\"text-align: right;\">  0.11146  </td><td style=\"text-align: right;\">-0.0422767</td><td style=\"text-align: right;\">       33.73</td></tr>\n",
       "<tr><td style=\"text-align: right;\">             2.11335 </td><td style=\"text-align: right;\"> -0.0521286</td><td style=\"text-align: right;\">-0.022878 </td><td style=\"text-align: right;\">       16.64</td></tr>\n",
       "<tr><td style=\"text-align: right;\">            -0.105024</td><td style=\"text-align: right;\"> -0.0650096</td><td style=\"text-align: right;\">-0.0422767</td><td style=\"text-align: right;\">      136.25</td></tr>\n",
       "<tr><td style=\"text-align: right;\">             1.58516 </td><td style=\"text-align: right;\"> -0.0495524</td><td style=\"text-align: right;\">-0.0422767</td><td style=\"text-align: right;\">       34.73</td></tr>\n",
       "<tr><td style=\"text-align: right;\">             1.09219 </td><td style=\"text-align: right;\">  7.58632  </td><td style=\"text-align: right;\"> 4.11292  </td><td style=\"text-align: right;\">     2458.45</td></tr>\n",
       "<tr><td style=\"text-align: right;\">            -0.105024</td><td style=\"text-align: right;\"> -0.0263665</td><td style=\"text-align: right;\">-0.0422767</td><td style=\"text-align: right;\">      540.36</td></tr>\n",
       "<tr><td style=\"text-align: right;\">            -0.105024</td><td style=\"text-align: right;\">  0.0663769</td><td style=\"text-align: right;\">-0.0422767</td><td style=\"text-align: right;\">      864.76</td></tr>\n",
       "</tbody>\n",
       "</table>"
      ]
     },
     "metadata": {},
     "output_type": "display_data"
    },
    {
     "data": {
      "text/plain": []
     },
     "metadata": {},
     "output_type": "display_data"
    }
   ],
   "source": [
    "# Normalize train dataset\n",
    "train['months_after_signup'] = train['months_after_signup'].scale()\n",
    "train['n_friends'] = train['n_friends'].scale()\n",
    "train['n_groups'] = train['n_groups'].scale()\n",
    "\n",
    "display(train)"
   ]
  },
  {
   "cell_type": "code",
   "execution_count": 106,
   "metadata": {},
   "outputs": [],
   "source": [
    "# Define global parameters\n",
    "project_id = 'north-star-213610' # the ID of GCP project \n",
    "gcs_bucket = 'pp_steam_analysis' # bucket name where data is stored\n",
    "save_disk_path = '../'\n",
    "\n",
    "batch_size = 512\n",
    "model_name = 'tf_base'\n",
    "patience = 5 # how many epochs to wait before stopping \n",
    "n_epochs = 20"
   ]
  },
  {
   "cell_type": "code",
   "execution_count": 107,
   "metadata": {},
   "outputs": [],
   "source": [
    "# Function to create a tf.data dataset\n",
    "def make_dataset(df, shuffle=True, batch_size=32):\n",
    "  df = df.copy()\n",
    "  labels = df.pop('play_hours')\n",
    "  ds = tf.data.Dataset.from_tensor_slices((dict(df), labels))\n",
    "  if shuffle:\n",
    "    ds = ds.shuffle(buffer_size=len(df))\n",
    "  ds = ds.batch(batch_size)\n",
    "    \n",
    "  return ds #.prefetch(tf.data.experimental.AUTOTUNE) # prefetch the batches\n",
    "\n",
    "train_dataset = make_dataset(train.as_data_frame(), batch_size=batch_size)\n",
    "val_dataset = make_dataset(val.as_data_frame(), batch_size=batch_size, shuffle=False)\n",
    "test_dataset = make_dataset(test.as_data_frame(), batch_size=batch_size, shuffle=False)\n"
   ]
  },
  {
   "cell_type": "code",
   "execution_count": 108,
   "metadata": {
    "scrolled": false
   },
   "outputs": [
    {
     "name": "stdout",
     "output_type": "stream",
     "text": [
      "All features: ['months_after_signup', 'n_friends', 'n_groups']\n",
      "\n",
      "A batch of n_friends: tf.Tensor(\n",
      "[-0.07789066 -0.07789066 -0.07789066 -0.07789066 -0.07789066 -0.07531445\n",
      " -0.07789066 -0.07273825 -0.07789066 -0.07789066 -0.07789066 -0.07789066\n",
      " -0.07789066 -0.07789066 -0.07789066 -0.07789066 -0.07789066 -0.07789066\n",
      " -0.04439998 -0.07789066 -0.07789066 -0.07660256 -0.07789066 -0.03924757\n",
      " -0.06243343 -0.07789066 -0.07660256 -0.07789066 -0.07789066 -0.07789066\n",
      " -0.07789066 -0.07789066  0.20033957 -0.07789066 -0.07789066 -0.07789066\n",
      " -0.07789066 -0.07789066 -0.07789066 -0.07789066 -0.07789066 -0.07789066\n",
      " -0.07789066  0.40128363 -0.07789066 -0.07789066 -0.07145015 -0.07789066\n",
      " -0.07789066 -0.07789066], shape=(50,), dtype=float64)\n",
      "\n",
      "A batch of labels: tf.Tensor(\n",
      "[1.73500e+02 0.00000e+00 1.23000e+00 9.20000e-01 1.18060e+02 1.41500e+01\n",
      " 9.17000e+01 6.50000e-01 2.08780e+02 2.55700e+01 1.18006e+03 0.00000e+00\n",
      " 1.54170e+02 1.30000e+00 2.89480e+03 3.60500e+01 3.47000e+00 3.70000e-01\n",
      " 7.83300e+01 3.93000e+00 4.57960e+02 1.24850e+02 0.00000e+00 3.66000e+00\n",
      " 2.23870e+02 2.10030e+02 1.01800e+01 2.51120e+02 5.30120e+02 2.55000e+00\n",
      " 0.00000e+00 5.68000e+00 6.28300e+02 2.08418e+03 3.08200e+01 2.51200e+01\n",
      " 1.24050e+02 4.05950e+02 6.01000e+01 1.80000e-01 5.02000e+01 1.42525e+03\n",
      " 0.00000e+00 7.21900e+01 1.33060e+02 8.10000e-01 1.68000e+00 1.50000e-01\n",
      " 1.19860e+02 4.47820e+02], shape=(50,), dtype=float64)\n"
     ]
    }
   ],
   "source": [
    "# Check a batch - limit to 50 \n",
    "for feature_batch, label_batch in train_dataset.take(1):\n",
    "  print('All features:', list(feature_batch.keys()))\n",
    "  print('\\nA batch of n_friends:', feature_batch['n_friends'][:50])\n",
    "  print('\\nA batch of labels:', label_batch[:50] )"
   ]
  },
  {
   "cell_type": "code",
   "execution_count": 109,
   "metadata": {},
   "outputs": [
    {
     "data": {
      "text/plain": [
       "[NumericColumn(key='months_after_signup', shape=(1,), default_value=None, dtype=tf.float32, normalizer_fn=None),\n",
       " NumericColumn(key='n_friends', shape=(1,), default_value=None, dtype=tf.float32, normalizer_fn=None),\n",
       " NumericColumn(key='n_groups', shape=(1,), default_value=None, dtype=tf.float32, normalizer_fn=None)]"
      ]
     },
     "execution_count": 109,
     "metadata": {},
     "output_type": "execute_result"
    }
   ],
   "source": [
    "# Define tensorflow columns type --> All columns are numerical \n",
    "\n",
    "tf_feature_cols = []\n",
    "for col in train.columns[:-1]:\n",
    "    tf_feature_cols.append(fc.numeric_column(col))\n",
    "    \n",
    "tf_feature_cols    "
   ]
  },
  {
   "cell_type": "code",
   "execution_count": 110,
   "metadata": {},
   "outputs": [],
   "source": [
    "# Define where to save the model and a few callbacks\n",
    "import shutil, os \n",
    "\n",
    "OUTDIR = '../models/' + str(model_name)\n",
    "\n",
    "shutil.rmtree(OUTDIR, ignore_errors = True) # start fresh each time\n",
    "if not os.path.exists(OUTDIR):\n",
    "    os.makedirs(OUTDIR)\n",
    "\n",
    "model_file = model_name +\"-{epoch:02d}.hdf5\"\n",
    "model_file_path = os.path.join(OUTDIR, model_file)\n",
    "\n",
    "# How many batches to take from datasets \n",
    "train_steps = len(train) // batch_size \n",
    "val_steps = len(val) // batch_size  \n",
    "test_steps = len(test) // batch_size\n",
    "\n",
    "metric_monitoring = 'mse' # what metric to monitor\n",
    "\n",
    "csv_logger = CSVLogger(OUTDIR + '/log_file.log')\n",
    "early_stopper = EarlyStopping(monitor=metric_monitoring, patience=patience, verbose=1, mode = 'min')\n",
    "tensor_board = TensorBoard(log_dir=OUTDIR, histogram_freq=1, write_graph=True, write_images=True)\n",
    "modelcheckpt = ModelCheckpoint(model_file_path, monitor=metric_monitoring, save_best_only=True, mode='min')\n",
    "callbacks_list = [csv_logger, early_stopper, modelcheckpt, tensor_board]"
   ]
  },
  {
   "cell_type": "code",
   "execution_count": 126,
   "metadata": {
    "scrolled": true
   },
   "outputs": [],
   "source": [
    "feature_layer = tf.keras.layers.DenseFeatures(tf_feature_cols)\n",
    "model = tf.keras.Sequential()\n",
    "model.add(feature_layer)\n",
    "model.add(tf.keras.layers.Dense(64, activation=\"relu\"))\n",
    "model.add(tf.keras.layers.Dense(64, activation=\"relu\"))\n",
    "model.add(tf.keras.layers.Dense(1, activation = 'linear'))\n",
    "\n",
    "model.compile(optimizer='adam', loss='mean_squared_error', metrics=[metric_monitoring])\n",
    "history = model.fit(train_dataset, epochs=n_epochs, validation_data=val_dataset)\n",
    "\n",
    "\n",
    "# Save last model \n",
    "# model_file = model_name +\"_last_model.hdf5\"\n",
    "# model_file_path = os.path.join(OUTDIR, model_file)\n",
    "# model.save(model_file_path)\n",
    "\n",
    "results = history.history\n",
    "\n"
   ]
  },
  {
   "cell_type": "markdown",
   "metadata": {},
   "source": [
    "**Model Performance**\n",
    "\n",
    "The plot below shows the model performance for training and validation. It can be seen that the validation RMSE is much higher than the training RMSE which indicates that the model does not generalize well for new data or it does not learn the representation needed for prediction. In other words the model is overfitting. "
   ]
  },
  {
   "cell_type": "code",
   "execution_count": 124,
   "metadata": {},
   "outputs": [
    {
     "data": {
      "text/plain": [
       "<matplotlib.legend.Legend at 0x7fef045e9978>"
      ]
     },
     "execution_count": 124,
     "metadata": {},
     "output_type": "execute_result"
    },
    {
     "data": {
      "image/png": "[encoded data removed]",
      "text/plain": [
       "<Figure size 1008x576 with 1 Axes>"
      ]
     },
     "metadata": {},
     "output_type": "display_data"
    }
   ],
   "source": [
    "import matplotlib.pyplot as plt\n",
    "import numpy as np\n",
    "\n",
    "fig = plt.figure(figsize=(14, 8))\n",
    "plt.tight_layout(pad=1, w_pad=1, h_pad=1.0)\n",
    "# plt.yscale('log')\n",
    "\n",
    "epochs = range(1, len(results['loss']) + 1)\n",
    "plt.plot(epochs, np.sqrt(results['mse']), label='Training RMSE')\n",
    "plt.plot(epochs, np.sqrt(results['val_mse']), label='Validation RMSE')\n",
    "\n",
    "# plt.plot(epochs, np.sqrt(results['loss']), label='Training loss')\n",
    "# plt.plot(epochs, np.sqrt(results['val_loss']), label='Validation loss')\n",
    "\n",
    "plt.title(\"Training and Validation RMSE & Loss\")\n",
    "plt.xlabel('Epochs')\n",
    "plt.ylabel('Loss / RMSE ')\n",
    "plt.legend()"
   ]
  },
  {
   "cell_type": "code",
   "execution_count": 127,
   "metadata": {},
   "outputs": [],
   "source": [
    "\n",
    "# predictions = model.predict(test_dataset, steps=test_steps)\n",
    "# predictions = np.array([x[0] for x in predictions], dtype='float32')\n",
    "\n",
    "loss, mse = model.evaluate(test_dataset)\n"
   ]
  },
  {
   "cell_type": "code",
   "execution_count": 113,
   "metadata": {},
   "outputs": [
    {
     "name": "stdout",
     "output_type": "stream",
     "text": [
      "RMSE for test dataset = 22198.0\n"
     ]
    }
   ],
   "source": [
    "print(\"RMSE for test dataset = {}\".format(round(np.sqrt(mse))))"
   ]
  },
  {
   "cell_type": "markdown",
   "metadata": {},
   "source": [
    "**RMSE comment**\n",
    "\n",
    "\n",
    "The RMSE value (in terms of play hours) of the test dataset is very high - in order of magnitudes higher than the one from the previous models. One way of tackling this is to change the architecture of the model and do hyperparameters tuning ([talos](https://github.com/autonomio/talos) can help or hp tuning on ML engine), including regularization. \n",
    "However, because this is already a complex model and the prediction is so much worse than the one of the previous model, this neural network implementation does not seem to learn from the data. It sounds sensible to not proceed any further with this model. \n",
    "\n",
    "**Models comparison**\n",
    "\n",
    "The GLM and the GBM model had a test RMSE value more than 600 play hours but the last one had a value almost 37 times higher. The GBM model is the best model so far and it shows that the number of friends can be most indicative of the time users spend on the gaming platform. \n",
    "\n",
    "**Back to original hypothesis ... **\n",
    "\n",
    "The initial hypothesis (based on preliminary data analysis in Exercise 2) stated that the user's play time (in a given month) is a function  of the number of friends the users connect to, the number of groups the users join and the platform tenure (aka monhts since sign up). \n",
    "\n",
    "While the models explored above show some predictive information wrt the hypothesis, the prediction error is too high to be used with confidence. The error translates in about 25 days / month - in the context where it is desirable to predict the play time in a given month, this becomes unusable. \n",
    "\n",
    "The work explored in this exercise show that the fields selected have some predictive power but it is not enough. A couple of points to consider going forward are: \n",
    "1. Get more granular data: the data used here at most has only two entries about a user. In the analysis, the user id was removed, but it is still useful to have more frequent data (n friends / groups) about user's activity. \n",
    "2. Expand the data scope: at the moment only months after sign up, n friends and groups was included. More fields can be added to the table (i.e. game type) which may improve the prediction.\n"
   ]
  },
  {
   "cell_type": "markdown",
   "metadata": {},
   "source": [
    "\n",
    "## Modelling - other ideas\n",
    "\n",
    "---\n",
    "\n",
    "In this exercise the idea of predicting how much time a user will spend next month on the platform was explored ... but there is more! \n",
    "\n",
    "The following points can be taken further for analysis: \n",
    "1. A deep dive analysis on what drives play time. Given the data at hand, we can get a deeper understanding of what triggers users to spend time gaming online by just describing the data. \n",
    "2. Given (1) and the two points of recommendation above, a better prediction model can be developed to predict the user's play time. If the hypothesis is hold true, then intervention with A/B testing systems (i.e. suggest to connect / engage more) can be designed to encourage users to spend more time on the platform (presumably that will link to the business metrics in a positive way). \n",
    "3. A graph / network analysis to understand friends database - it can be used to suggest / recommend connecting to users of similar interest and level of gaming performance and ultimately linked to (2). \n",
    "4. Analysis of groups similarity to users. It can be used to recommend users which groups to join. \n",
    "\n",
    " "
   ]
  },
  {
   "cell_type": "markdown",
   "metadata": {},
   "source": [
    "## Appendix\n",
    "\n",
    "---"
   ]
  },
  {
   "cell_type": "code",
   "execution_count": 114,
   "metadata": {},
   "outputs": [],
   "source": [
    "# Define a function for tensorflow to read and parse csv data from disk / GCS\n",
    "\n",
    "def read_dataset(train_filepaths, \n",
    "                 num_epochs=None, \n",
    "                 n_readers=1, \n",
    "                 n_read_threads=5, \n",
    "                 n_parse_threads=8, \n",
    "                 batch_size=1024, \n",
    "                 shuffle = True):\n",
    "    \n",
    "    \"\"\"\n",
    "    n_readers : used if multiple files are read randomnly; determines how many files to be read \n",
    "    n_read_threads / n_parse_threads : how many threads to be used in reading / parsing the data\n",
    "    \"\"\"\n",
    "\n",
    "    def decode_csv(line):\n",
    "        fields = tf.io.decode_csv(line, record_defaults=defaults)\n",
    "        features = dict(zip(columns_original, fields))\n",
    "        features[column_label] = tf.cast(features[column_label], tf.int32)\n",
    "        label = features.pop(column_label)\n",
    "\n",
    "        for feat in columns_num:\n",
    "            features[feat] = tf.cast(features[feat], tf.float32)\n",
    "\n",
    "        for feat in column_drop:  \n",
    "          features.pop(feat)\n",
    "\n",
    "        return features, label\n",
    "\n",
    "    dataset = tf.data.Dataset.list_files(train_filepaths, seed=42, shuffle = False)\n",
    "\n",
    "    dataset = dataset.interleave(\n",
    "        lambda filepath: tf.data.TextLineDataset(filepath).skip(1), cycle_length=n_readers,\n",
    "            num_parallel_calls=n_read_threads)\n",
    "    if shuffle:\n",
    "        dataset = dataset.shuffle(buffer_size=10*batch_size)\n",
    "\n",
    "    dataset = dataset.map(decode_csv, num_parallel_calls=n_parse_threads)\n",
    "    dataset = dataset.repeat(num_epochs).batch(batch_size=batch_size)\n",
    "\n",
    "    return dataset.prefetch(tf.data.experimental.AUTOTUNE)\n",
    "\n",
    "\n"
   ]
  }
 ],
 "metadata": {
  "kernelspec": {
   "display_name": "Python 3",
   "language": "python",
   "name": "python3"
  },
  "language_info": {
   "codemirror_mode": {
    "name": "ipython",
    "version": 3
   },
   "file_extension": ".py",
   "mimetype": "text/x-python",
   "name": "python",
   "nbconvert_exporter": "python",
   "pygments_lexer": "ipython3",
   "version": "3.6.8"
  },
  "toc": {
   "base_numbering": 1,
   "nav_menu": {},
   "number_sections": false,
   "sideBar": true,
   "skip_h1_title": false,
   "title_cell": "Table of Contents",
   "title_sidebar": "Contents",
   "toc_cell": false,
   "toc_position": {
    "height": "calc(100% - 180px)",
    "left": "10px",
    "top": "150px",
    "width": "305px"
   },
   "toc_section_display": true,
   "toc_window_display": true
  },
  "varInspector": {
   "cols": {
    "lenName": 16,
    "lenType": 16,
    "lenVar": 40
   },
   "kernels_config": {
    "python": {
     "delete_cmd_postfix": "",
     "delete_cmd_prefix": "del ",
     "library": "var_list.py",
     "varRefreshCmd": "print(var_dic_list())"
    },
    "r": {
     "delete_cmd_postfix": ") ",
     "delete_cmd_prefix": "rm(",
     "library": "var_list.r",
     "varRefreshCmd": "cat(var_dic_list()) "
    }
   },
   "types_to_exclude": [
    "module",
    "function",
    "builtin_function_or_method",
    "instance",
    "_Feature"
   ],
   "window_display": false
  }
 },
 "nbformat": 4,
 "nbformat_minor": 2
}
