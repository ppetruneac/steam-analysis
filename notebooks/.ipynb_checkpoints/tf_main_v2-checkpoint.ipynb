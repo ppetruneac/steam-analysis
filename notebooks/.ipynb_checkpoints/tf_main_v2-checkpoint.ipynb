{
 "cells": [
  {
   "cell_type": "markdown",
   "metadata": {},
   "source": [
    "# Intro tf v2: to DO  \n",
    "\n",
    "Building from *master* branch, changing how things work with tensorflow. \n",
    "\n",
    "> Notes v2:\n",
    "- using *tf.keras*: If you save the model with checkpoints / `model.save()` with tf.keras and use `tf.keras.layers.DenseFeatures()` when create the model, you cannot import the model after you save it. The size of the saved model is also small, kb instead of mb. "
   ]
  },
  {
   "cell_type": "code",
   "execution_count": 1,
   "metadata": {
    "ExecuteTime": {
     "end_time": "2019-05-23T14:44:22.089360Z",
     "start_time": "2019-05-23T14:44:18.185931Z"
    }
   },
   "outputs": [
    {
     "name": "stderr",
     "output_type": "stream",
     "text": [
      "/anaconda3/envs/tf2_dev/lib/python3.6/site-packages/h5py/__init__.py:36: FutureWarning: Conversion of the second argument of issubdtype from `float` to `np.floating` is deprecated. In future, it will be treated as `np.float64 == np.dtype(float).type`.\n",
      "  from ._conv import register_converters as _register_converters\n"
     ]
    },
    {
     "name": "stdout",
     "output_type": "stream",
     "text": [
      "tf version = 2.0.0-alpha0\n",
      "keras version = 2.2.4-tf\n"
     ]
    }
   ],
   "source": [
    "# tensorflow imports\n",
    "import tensorflow as tf\n",
    "from tensorflow import keras\n",
    "from tensorflow import feature_column\n",
    "from tensorflow.keras import layers\n",
    "from tensorflow.keras.callbacks import ModelCheckpoint, EarlyStopping, TensorBoard, CSVLogger\n",
    "from tensorflow.python.client import device_lib\n",
    "import tensorflow.keras.backend as K\n",
    "import tensorflow.keras.metrics as metrics\n",
    "\n",
    "# GCP imports\n",
    "from google.cloud import bigquery\n",
    "from google.cloud import storage\n",
    "\n",
    "path_service_account = '../credentials/gcp_service_account.json'\n",
    "client_storage = storage.Client.from_service_account_json(path_service_account)\n",
    "client_bq = bigquery.Client.from_service_account_json(path_service_account)\n",
    "job_config = bigquery.QueryJobConfig()\n",
    "\n",
    "import dask.dataframe as dd\n",
    "from matplotlib import pyplot as plt\n",
    "from sklearn.metrics import roc_curve, confusion_matrix\n",
    "import pandas as pd\n",
    "import numpy as np\n",
    "import gcsfs, os, shutil, glob, argparse, time\n",
    "from tqdm import tqdm\n",
    "from functions import plot_confusion_matrix_from_data\n",
    "\n",
    "# n_sessions = 500000\n",
    "parser = argparse.ArgumentParser(prefix_chars='-+/')\n",
    "parser.add_argument('-s', '--sessions', help=\"The number of sessions to read?\")\n",
    "args = parser.parse_args()\n",
    "n_sessions = int(args.sessions)\n",
    "\n",
    "\n",
    "print(\"tf version = {}\".format(tf.__version__))\n",
    "print(\"keras version = {}\".format(keras.__version__))\n",
    "\n",
    "time_start = time.time()"
   ]
  },
  {
   "cell_type": "code",
   "execution_count": 2,
   "metadata": {
    "ExecuteTime": {
     "end_time": "2019-05-23T14:44:23.341215Z",
     "start_time": "2019-05-23T14:44:22.091501Z"
    }
   },
   "outputs": [
    {
     "data": {
      "text/plain": [
       "0"
      ]
     },
     "execution_count": 2,
     "metadata": {},
     "output_type": "execute_result"
    }
   ],
   "source": [
    "command = 'gcloud auth activate-service-account ga-cr-997@dyson-gds-dsdev.iam.gserviceaccount.com --key-file=../credentials/gcp_service_account.json '\n",
    "with open('command.sh', 'w') as the_file:\n",
    "  the_file.write(command)\n",
    "# Copy files to GCS    \n",
    "bashCommand = \"bash command.sh\"\n",
    "os.system(bashCommand)\n",
    "# Remove the command file\n",
    "bashCommand = \"rm command.sh\"\n",
    "os.system(bashCommand)\n",
    "\n",
    "# Set default account \n",
    "command = 'gcloud config set account ga-cr-997@dyson-gds-dsdev.iam.gserviceaccount.com'\n",
    "with open('command.sh', 'w') as the_file:\n",
    "  the_file.write(command)\n",
    "# Copy files to GCS    \n",
    "bashCommand = \"bash command.sh\"\n",
    "os.system(bashCommand)\n",
    "# Remove the command files\n",
    "bashCommand = \"rm command.sh\"\n",
    "os.system(bashCommand)"
   ]
  },
  {
   "cell_type": "code",
   "execution_count": 3,
   "metadata": {
    "ExecuteTime": {
     "end_time": "2019-05-23T14:44:23.351949Z",
     "start_time": "2019-05-23T14:44:23.343315Z"
    }
   },
   "outputs": [],
   "source": [
    "# Data will be saved in gcs_bucket\n",
    "project_id = 'dyson-gds-dsdev'\n",
    "gcs_bucket = 'pp-ga-sessions'\n",
    "dataset_bq = 'pp_ga_sessions'\n",
    "save_disk_path = '../'\n",
    "\n",
    "batch_size = 512\n",
    "n_epoch = 20\n",
    "\n",
    "model_name = 'tf_base_' + str(n_sessions)\n",
    "patience = 10"
   ]
  },
  {
   "cell_type": "markdown",
   "metadata": {},
   "source": [
    "# Read Data"
   ]
  },
  {
   "cell_type": "code",
   "execution_count": 4,
   "metadata": {
    "ExecuteTime": {
     "end_time": "2019-05-23T14:44:23.371078Z",
     "start_time": "2019-05-23T14:44:23.354422Z"
    }
   },
   "outputs": [],
   "source": [
    "# the numbers below denoted as n_sessions is only used in SQL for LIMIT clause. It is the total number of sessions read. \n",
    "# n_sessions: is split into train-val-test based on the ratio and the data is randomnly selected for 2018 data \n",
    "# based on session_ID, randomnly selected.\n",
    "\n",
    "\n",
    "verbose = True\n",
    "\n",
    "ratio_clases = 283144 / 15403221\n",
    "n_train = int(0.7 * n_sessions)\n",
    "n_val = int(0.15 * n_sessions)\n",
    "n_test = int(0.15 * n_sessions)\n",
    "\n",
    "n_train_1 = int(n_train * ratio_clases)\n",
    "n_train_0 = int(n_train * (1-ratio_clases))\n",
    "\n",
    "n_val_1 = int(n_val * ratio_clases)\n",
    "n_val_0 = int(n_val * (1-ratio_clases))\n",
    "\n",
    "n_test_1 = int(n_test * ratio_clases)\n",
    "n_test_0 = int(n_test * (1-ratio_clases))\n",
    "\n",
    "modes = ['train', 'val', 'test']\n",
    "n_modes = {'train':[n_train_0, n_train_1], 'val':[n_val_0, n_val_1], 'test':[n_test_0, n_test_1]}"
   ]
  },
  {
   "cell_type": "code",
   "execution_count": 5,
   "metadata": {
    "ExecuteTime": {
     "end_time": "2019-05-23T14:45:27.512647Z",
     "start_time": "2019-05-23T14:44:23.373525Z"
    },
    "code_folding": [],
    "scrolled": false
   },
   "outputs": [
    {
     "name": "stdout",
     "output_type": "stream",
     "text": [
      "Reading data for mode TRAIN. 349999 random sessions in total ... \n",
      "Reading data for mode VAL. 74999 random sessions in total ... \n",
      "Reading data for mode TEST. 74999 random sessions in total ... \n",
      "Moving data from BQ to GCS pp-ga-sessions ... \n",
      "Data is stored in GCS bucket gs://pp-ga-sessions/data/sample/[train-val-test] \n",
      "\n"
     ]
    },
    {
     "data": {
      "text/plain": [
       "0"
      ]
     },
     "execution_count": 5,
     "metadata": {},
     "output_type": "execute_result"
    }
   ],
   "source": [
    "\n",
    "\n",
    "for mode in modes: \n",
    "    \n",
    "    if verbose:\n",
    "        print('Reading data for mode {}. {} random sessions in total ... '.format(mode.upper(), sum(n_modes[mode])))\n",
    "    \n",
    "    query =  \"\"\"SELECT\n",
    "      *\n",
    "    FROM\n",
    "      `dyson-gds-dsdev.pp_ga_sessions.summarised_features_0`\n",
    "    WHERE\n",
    "      session_ID IN (\n",
    "      SELECT\n",
    "        session_ID\n",
    "      FROM\n",
    "        `dyson-gds-dsdev.pp_ga_sessions.summarised_features_0`\n",
    "      ORDER BY\n",
    "        rand()\n",
    "      LIMIT \"\"\" + str(n_modes[mode][0]) + \"\"\") \"\"\" + \"\"\"UNION ALL\n",
    "    SELECT\n",
    "      *\n",
    "    FROM (\n",
    "      SELECT\n",
    "        *\n",
    "      FROM\n",
    "        `dyson-gds-dsdev.pp_ga_sessions.summarised_features_1`\n",
    "      ORDER BY\n",
    "        rand()\n",
    "      LIMIT \"\"\" + str(n_modes[mode][1]) + ') order by rand()'\n",
    "\n",
    "    table = mode + '_summarised_features'\n",
    "    table_ref = client_bq.dataset(dataset_id = dataset_bq, project = project_id).table(table)\n",
    "    job_config.destination = table_ref\n",
    "    job_config.allow_large_results = True\n",
    "    job_config.write_disposition = \"WRITE_TRUNCATE\"\n",
    "    query_job = client_bq.query(query, location='US', job_config=job_config)  # API request - starts the query\n",
    "    query_job.result() \n",
    "       \n",
    "\n",
    "# Moving data from BQ to GCS\n",
    "dataset_client = client_bq.dataset(dataset_bq)\n",
    "tables = list(client_bq.list_tables(dataset_client))\n",
    "\n",
    "if verbose:\n",
    "    print('Moving data from BQ to GCS {} ... '.format(gcs_bucket))\n",
    "    \n",
    "# Removes files in bucket, if any.\n",
    "bucket = client_storage.get_bucket(gcs_bucket)\n",
    "blobs = bucket.list_blobs()\n",
    "for blob in blobs:\n",
    "    if (blob.name.startswith('data/sample')) & (blob.name.split('.')[-1] == 'csv'):\n",
    "        blob.delete() \n",
    "\n",
    "for t in range(len(tables)):\n",
    "    table_id = tables[t].table_id\n",
    "    if table_id.startswith('train_summarised') or table_id.startswith('val_summarised') or table_id.startswith('test_summarised'):\n",
    "        table_name = project_id + \":\" + dataset_bq + \".\" + table_id  \n",
    "        file_name = table_id + '_*.csv'\n",
    "        destination_uri = 'gs://{}/data/sample/{}'.format(gcs_bucket, file_name)\n",
    "        command = \"bq --project_id=\" + project_id +  ' extract --print_header ' + table_name + \" \" + destination_uri \n",
    "        with open('command.sh', 'w') as the_file:\n",
    "              the_file.write(command)\n",
    "        bashCommand = \"bash command.sh\"\n",
    "        os.system(bashCommand)\n",
    "            \n",
    "# Remove the command file\n",
    "bashCommand = \"rm command.sh\"\n",
    "os.system(bashCommand)            \n",
    "        \n",
    "if verbose:    \n",
    "    print(\"Data is stored in GCS bucket gs://{}/data/sample/[train-val-test] \\n\".format(gcs_bucket))\n",
    "    \n",
    "\n",
    "command = \"rm -rf  \" + save_disk_path + \"/data/sample/*\" \n",
    "command = command + \" \\n gsutil -m cp gs://pp-ga-sessions/data/sample/* \" + save_disk_path + \"/data/sample\"\n",
    "with open('command.sh', 'w') as the_file:\n",
    "    the_file.write(command)\n",
    "# Copy files to GCS    \n",
    "bashCommand = \"bash command.sh\"\n",
    "os.system(bashCommand)\n"
   ]
  },
  {
   "cell_type": "code",
   "execution_count": 6,
   "metadata": {
    "ExecuteTime": {
     "end_time": "2019-05-23T14:45:27.532950Z",
     "start_time": "2019-05-23T14:45:27.514825Z"
    }
   },
   "outputs": [
    {
     "name": "stdout",
     "output_type": "stream",
     "text": [
      "Train files: ['../data/sample/train_summarised_features_000000000000.csv']\n"
     ]
    }
   ],
   "source": [
    "# fs = gcsfs.GCSFileSystem(project=project_id)\n",
    "\n",
    "train_filepaths = []\n",
    "val_filepaths = []\n",
    "test_filepaths = []\n",
    "\n",
    "# path_gcp = 'gs://pp-ga-sessions/data/sample/'\n",
    "\n",
    "# for file in fs.ls(path_gcp):\n",
    "#     if file.split('/')[-1].startswith('train_features_static'):\n",
    "#         train_files.append(\"gs://\" + file)\n",
    "#     elif file.split('/')[-1].startswith('val_features_static'):\n",
    "#         val_files.append(\"gs://\" + file)\n",
    "#     elif file.split('/')[-1].startswith('test_features_static'):\n",
    "#         test_files.append(\"gs://\" + file)\n",
    "      \n",
    "\n",
    "path_local = save_disk_path + 'data/sample/*'\n",
    "for file in glob.glob(path_local):\n",
    "    if file.split(\"/\")[-1].startswith('train_summarised'):\n",
    "        train_filepaths.append(file)\n",
    "    elif file.split(\"/\")[-1].startswith('val_summarised'):\n",
    "        val_filepaths.append(file)\n",
    "    elif file.split(\"/\")[-1].startswith('test_summarised'):\n",
    "        test_filepaths.append(file)\n",
    "\n",
    "print('Train files: {}'.format(train_filepaths))\n"
   ]
  },
  {
   "cell_type": "markdown",
   "metadata": {},
   "source": [
    "## Columns Selection"
   ]
  },
  {
   "cell_type": "code",
   "execution_count": 7,
   "metadata": {
    "ExecuteTime": {
     "end_time": "2019-05-23T14:45:28.962565Z",
     "start_time": "2019-05-23T14:45:27.535882Z"
    }
   },
   "outputs": [],
   "source": [
    "# Get default values and column names \n",
    "train_files = save_disk_path + 'data/sample/train_summarised*'\n",
    "columns_original = dd.read_csv(urlpath=train_files, blocksize = None, \n",
    "                         storage_options={'token': path_service_account}).head(1).columns\n",
    "columns_original = list(columns_original)    \n",
    "\n",
    "# default_values = dd.read_csv(urlpath=train_files, blocksize = None, \n",
    "#                        dtype = {'adNetworkType': 'object', 'criteriaParameters': 'object', 'slot': 'object'}, \n",
    "#                        storage_options={'token': path_service_account}).tail(1)\n",
    "# default_values = default_values.values.tolist()    \n",
    "# default_values = [el for el in default_values[0]]\n",
    "# default_values = [str(el) if type(el) == bool else el for el in default_values ]\n",
    "# default_values[10] = '0' # adGroupID needs to be string\n",
    "\n",
    "\n",
    "\n",
    "column_drop = ['session_ID'] \n",
    "column_label = 'conversion' # string value\n",
    "\n",
    "columns_num = ['n_hits', 'n_pageviews', 'n_timeOnSite', 'n_newVisits', 'n_bounces',\n",
    "              'n_distinct_pageTitle',\n",
    "               'n_distinct_eventCategory', 'n_distinct_pagePathLevel1',\n",
    "              'latitude', 'longitude']\n",
    "\n",
    "columns_cat = ['visit_month', 'visit_day', 'visit_hour', \n",
    "               'adGroupId', 'page_rank_ad',\n",
    "               'javaEnabled', 'mobileInputSelector', 'LANGUAGE', 'screenColors',\n",
    "               'screenResolution', 'deviceCategory', 'mobileDeviceBranding',\n",
    "               'browser', 'operatingSystem', 'continent', 'country', 'source', 'medium', 'isTrueDirect', 'ad_slot',\n",
    "               'adNetworkType']\n",
    "\n",
    "\n",
    "defaults = [] \n",
    "for col in columns_original:\n",
    "    if col == 'session_ID':\n",
    "        defaults.append('string')\n",
    "    elif col in columns_cat:\n",
    "        defaults.append(0)\n",
    "    else:\n",
    "        defaults.append(-1.5)\n",
    "\n",
    "assert len(columns_original) == len(defaults)\n",
    "\n"
   ]
  },
  {
   "cell_type": "markdown",
   "metadata": {},
   "source": [
    "## Get voc list for categorical cols"
   ]
  },
  {
   "cell_type": "code",
   "execution_count": 8,
   "metadata": {
    "ExecuteTime": {
     "end_time": "2019-05-23T14:45:28.970054Z",
     "start_time": "2019-05-23T14:45:28.964391Z"
    },
    "scrolled": true
   },
   "outputs": [],
   "source": [
    "\n",
    "outdir = save_disk_path + \"data/interim/cat_cols_voc_list/\"\n",
    "empty_dir = True\n",
    "\n",
    "# Create dir if not exists. \n",
    "if not os.path.exists(outdir):\n",
    "    os.makedirs(outdir)\n",
    "\n",
    "# Empty directory if requested. \n",
    "if empty_dir:\n",
    "    shutil.rmtree(outdir, ignore_errors = True)\n",
    "    os.makedirs(outdir)\n",
    "\n",
    "for i, col in tqdm(enumerate(columns_cat)):\n",
    "    print(\"\\tGetting unique values for col {} out of {}: ({}) ...\".format(i + 1, len(columns_cat), col))\n",
    "    query = \"\"\" SELECT distinct * FROM ( SELECT distinct \"\"\" + col + \"\"\"   FROM `dyson-gds-dsdev.pp_ga_sessions.summarised_features_1` \n",
    "            UNION ALL \n",
    "            SELECT distinct \"\"\" + col + \"\"\"  FROM `dyson-gds-dsdev.pp_ga_sessions.summarised_features_0`) \"\"\"\n",
    "    query_job = client_bq.query(query)\n",
    "    result = query_job.result().to_dataframe().iloc[:, 0].values\n",
    "    \n",
    "    # Writing the file to disk\n",
    "    file_name = outdir + col.split()[-1] + '_voc_list.txt'\n",
    "    file = open(file_name, mode = 'w')\n",
    "    for i in result:\n",
    "        file.write(str(i) + \"\\n\") \n",
    "    file.close() \n",
    "    "
   ]
  },
  {
   "cell_type": "markdown",
   "metadata": {},
   "source": [
    "# tf.data \n",
    "\n",
    "Using CSV Decoding\n"
   ]
  },
  {
   "cell_type": "markdown",
   "metadata": {},
   "source": [
    "## CSV decoding\n"
   ]
  },
  {
   "cell_type": "code",
   "execution_count": 9,
   "metadata": {
    "ExecuteTime": {
     "end_time": "2019-05-23T14:45:29.358768Z",
     "start_time": "2019-05-23T14:45:28.972045Z"
    },
    "code_folding": [
     8
    ],
    "scrolled": false
   },
   "outputs": [],
   "source": [
    "def read_dataset(train_filepaths, \n",
    "                 num_epochs=None, \n",
    "                 n_readers=1, \n",
    "                 n_read_threads=5, \n",
    "                 n_parse_threads=8, \n",
    "                 batch_size=1024, \n",
    "                 shuffle = True):\n",
    "\n",
    "    def decode_csv(line):\n",
    "        fields = tf.io.decode_csv(line, record_defaults=defaults)\n",
    "        features = dict(zip(columns_original, fields))\n",
    "        features[column_label] = tf.cast(features[column_label], tf.int32)\n",
    "        label = features.pop(column_label)\n",
    "        \n",
    "        for feat in columns_cat:\n",
    "            features[feat] = tf.cast(features[feat], tf.int32)\n",
    "\n",
    "        for feat in columns_num:\n",
    "            features[feat] = tf.cast(features[feat], tf.float32)\n",
    "\n",
    "        for feat in column_drop:  \n",
    "          features.pop(feat)\n",
    "\n",
    "        return features, label\n",
    "\n",
    "    dataset = tf.data.Dataset.list_files(train_filepaths, seed=42, shuffle = False)\n",
    "\n",
    "    dataset = dataset.interleave(\n",
    "        lambda filepath: tf.data.TextLineDataset(filepath).skip(1), cycle_length=n_readers,\n",
    "            num_parallel_calls=n_read_threads)\n",
    "    if shuffle:\n",
    "        dataset = dataset.shuffle(buffer_size=10*batch_size)\n",
    "\n",
    "    dataset = dataset.map(decode_csv, num_parallel_calls=n_parse_threads)\n",
    "    dataset = dataset.repeat(num_epochs).batch(batch_size=batch_size)\n",
    "\n",
    "    return dataset.prefetch(tf.data.experimental.AUTOTUNE)\n",
    "    \n",
    "\n",
    "\n",
    "train_data = read_dataset(train_filepaths, \n",
    "                          num_epochs=None, \n",
    "                          n_readers=1, \n",
    "                          n_read_threads=tf.data.experimental.AUTOTUNE, \n",
    "                          n_parse_threads=tf.data.experimental.AUTOTUNE, \n",
    "                          batch_size=batch_size)\n",
    "\n",
    "val_data = read_dataset(val_filepaths, \n",
    "                          num_epochs=None, \n",
    "                          n_readers=1, \n",
    "                          n_read_threads=tf.data.experimental.AUTOTUNE, \n",
    "                          n_parse_threads=tf.data.experimental.AUTOTUNE, \n",
    "                          batch_size=batch_size)\n",
    "\n",
    "test_data = read_dataset(test_filepaths, \n",
    "                          num_epochs=None, \n",
    "                          n_readers=5, \n",
    "                          n_read_threads=1, \n",
    "                          n_parse_threads=tf.data.experimental.AUTOTUNE, \n",
    "                          batch_size=batch_size, shuffle=False)\n",
    "\n",
    "# Let's check a batch of data \n",
    "\n",
    "# for feature_batch, label_batch in train_data.take(1):\n",
    "#       print('Feature keys:', list(feature_batch.keys()))\n",
    "#       print()\n",
    "#       print('A batch of class:', feature_batch['visit_month'].numpy())\n",
    "#       print()\n",
    "#       print('A batch of Labels:', label_batch.numpy())"
   ]
  },
  {
   "cell_type": "markdown",
   "metadata": {
    "heading_collapsed": true
   },
   "source": [
    "## make_csv_dataset\n",
    "\n",
    "https://www.tensorflow.org/api_docs/python/tf/data/experimental/make_csv_dataset"
   ]
  },
  {
   "cell_type": "code",
   "execution_count": 10,
   "metadata": {
    "ExecuteTime": {
     "end_time": "2019-05-23T14:45:29.374944Z",
     "start_time": "2019-05-23T14:45:29.361021Z"
    },
    "code_folding": [
     1
    ],
    "hidden": true
   },
   "outputs": [],
   "source": [
    "\n",
    "# def make_dataset(file_pattern, batch_size,\n",
    "#                 select_columns = selected_columns, \n",
    "#                 column_defaults=default_values_selected_columns,\n",
    "#                 label_name=column_label,\n",
    "#                 na_value='',\n",
    "#                 header=True,\n",
    "#                 num_epochs=None,\n",
    "#                 shuffle=True,\n",
    "#                 shuffle_buffer_size=1000,\n",
    "#                 shuffle_seed=None,\n",
    "#                 prefetch_buffer_size=tf.data.experimental.AUTOTUNE,\n",
    "#                 num_parallel_reads=1):\n",
    "    \n",
    "    \n",
    "#     dataset =  tf.data.experimental.make_csv_dataset(\n",
    "#                 file_pattern=file_pattern,\n",
    "#                 batch_size=batch_size,\n",
    "#                 select_columns = select_columns,\n",
    "#                 column_defaults=default_values,\n",
    "#                 label_name=column_label,\n",
    "#                 na_value='',\n",
    "#                 header=header,\n",
    "#                 num_epochs=num_epochs,\n",
    "#                 shuffle=shuffle,\n",
    "#                 shuffle_buffer_size=shuffle_buffer_size,\n",
    "#                 shuffle_seed=shuffle_seed,\n",
    "#                 prefetch_buffer_size=prefetch_buffer_size,\n",
    "#                 num_parallel_reads=num_parallel_reads\n",
    "#             )\n",
    "#     return dataset   \n",
    "\n",
    "\n",
    "# batch_size = 256\n",
    "# n_epoch = 10\n",
    "\n",
    "# # Select indices for columns to select\n",
    "# selected_columns = []\n",
    "# [selected_columns.append(x) for x in columns_cat]\n",
    "# [selected_columns.append(x) for x in columns_num]\n",
    "# selected_columns.append(column_label)\n",
    "\n",
    "\n",
    "# index_selected_columns = [columns_original.index(x) for x in selected_columns]\n",
    "# default_values_selected_columns = [default_values[x] for x in index_selected_columns]\n",
    "\n",
    "# assert len(default_values_selected_columns) == len(selected_columns)\n",
    "\n",
    "# train_data = make_dataset(file_pattern= train_filepaths,\n",
    "#                             batch_size=batch_size,\n",
    "#                             select_columns = selected_columns,\n",
    "#                             column_defaults=default_values_selected_columns,\n",
    "#                             label_name=column_label,\n",
    "#                             na_value='',\n",
    "#                             header=True,\n",
    "#                             num_epochs=None,\n",
    "#                             shuffle=True,\n",
    "#                             shuffle_buffer_size=1000,\n",
    "#                             shuffle_seed=None,\n",
    "#                             prefetch_buffer_size=tf.data.experimental.AUTOTUNE,\n",
    "#                             num_parallel_reads=1)"
   ]
  },
  {
   "cell_type": "markdown",
   "metadata": {},
   "source": [
    "## TF feature colums"
   ]
  },
  {
   "cell_type": "code",
   "execution_count": 11,
   "metadata": {
    "ExecuteTime": {
     "end_time": "2019-05-23T14:45:29.400831Z",
     "start_time": "2019-05-23T14:45:29.377978Z"
    }
   },
   "outputs": [
    {
     "name": "stdout",
     "output_type": "stream",
     "text": [
      "31 columns \n",
      "\n",
      "NumericColumn(key='n_hits', shape=(1,), default_value=None, dtype=tf.float32, normalizer_fn=None)\n",
      "NumericColumn(key='n_pageviews', shape=(1,), default_value=None, dtype=tf.float32, normalizer_fn=None)\n",
      "NumericColumn(key='n_timeOnSite', shape=(1,), default_value=None, dtype=tf.float32, normalizer_fn=None)\n",
      "NumericColumn(key='n_newVisits', shape=(1,), default_value=None, dtype=tf.float32, normalizer_fn=None)\n",
      "NumericColumn(key='n_bounces', shape=(1,), default_value=None, dtype=tf.float32, normalizer_fn=None)\n",
      "NumericColumn(key='n_distinct_pageTitle', shape=(1,), default_value=None, dtype=tf.float32, normalizer_fn=None)\n",
      "NumericColumn(key='n_distinct_eventCategory', shape=(1,), default_value=None, dtype=tf.float32, normalizer_fn=None)\n",
      "NumericColumn(key='n_distinct_pagePathLevel1', shape=(1,), default_value=None, dtype=tf.float32, normalizer_fn=None)\n",
      "NumericColumn(key='latitude', shape=(1,), default_value=None, dtype=tf.float32, normalizer_fn=None)\n",
      "NumericColumn(key='longitude', shape=(1,), default_value=None, dtype=tf.float32, normalizer_fn=None)\n"
     ]
    }
   ],
   "source": [
    "outdir = save_disk_path + 'data/interim/cat_cols_voc_list/'\n",
    "tf_feature_cols = []\n",
    "fc = tf.feature_column\n",
    "num_oov_buckets=3\n",
    "\n",
    "def one_hot_cat_column(feature_name, vocab):\n",
    "      return fc.indicator_column(fc.categorical_column_with_vocabulary_file(feature_name, vocab, dtype=tf.int32))\n",
    "\n",
    "for col in columns_num:\n",
    "    tf_feature_cols.append(fc.numeric_column(col))\n",
    "    \n",
    "for col in columns_cat:\n",
    "    col_voc_path = outdir + col.split()[-1] + '_voc_list.txt'\n",
    "    tf_feature_cols.append(one_hot_cat_column(col, col_voc_path))\n",
    "    \n",
    "    \n",
    "\n",
    "print(\"{} columns \\n\".format(len(tf_feature_cols)))\n",
    "\n",
    "for feat in tf_feature_cols[:10]:\n",
    "    print(feat)"
   ]
  },
  {
   "cell_type": "code",
   "execution_count": 12,
   "metadata": {
    "ExecuteTime": {
     "end_time": "2019-05-23T14:45:29.646120Z",
     "start_time": "2019-05-23T14:45:29.402748Z"
    },
    "scrolled": true
   },
   "outputs": [
    {
     "name": "stderr",
     "output_type": "stream",
     "text": [
      "WARNING: Logging before flag parsing goes to stderr.\n",
      "W0523 15:45:29.643306 140735737680768 deprecation.py:323] From /anaconda3/envs/tf2_dev/lib/python3.6/site-packages/tensorflow/python/feature_column/feature_column_v2.py:2758: to_float (from tensorflow.python.ops.math_ops) is deprecated and will be removed in a future version.\n",
      "Instructions for updating:\n",
      "Use `tf.cast` instead.\n"
     ]
    }
   ],
   "source": [
    "# We will use this batch to demonstrate several types of feature columns\n",
    "example_batch = next(iter(train_data))[0]\n",
    "\n",
    "# A utility method to create a feature column\n",
    "# and to transform a batch of data\n",
    "def demo(tf_feature_cols):\n",
    "  feature_layer = layers.DenseFeatures(tf_feature_cols)\n",
    "  return feature_layer(example_batch).numpy()\n",
    "    \n",
    "    \n",
    "aa = demo(tf_feature_cols[8])  \n"
   ]
  },
  {
   "cell_type": "markdown",
   "metadata": {
    "ExecuteTime": {
     "end_time": "2019-05-16T06:55:41.327980Z",
     "start_time": "2019-05-16T06:55:41.324314Z"
    }
   },
   "source": [
    "# Train"
   ]
  },
  {
   "cell_type": "code",
   "execution_count": 13,
   "metadata": {
    "ExecuteTime": {
     "end_time": "2019-05-23T14:45:29.653030Z",
     "start_time": "2019-05-23T14:45:29.647700Z"
    }
   },
   "outputs": [
    {
     "name": "stdout",
     "output_type": "stream",
     "text": [
      "\n",
      "\n",
      "Available GPU: [] ... \n"
     ]
    }
   ],
   "source": [
    "\n",
    "def get_available_gpus():\n",
    "    local_device_protos = device_lib.list_local_devices()\n",
    "    return [x.name for x in local_device_protos if x.device_type == 'GPU']\n",
    "\n",
    "gpu = get_available_gpus()\n",
    "print(\"\\n\\nAvailable GPU: {} ... \".format(gpu))"
   ]
  },
  {
   "cell_type": "markdown",
   "metadata": {},
   "source": [
    "## Sequential Dense layers"
   ]
  },
  {
   "cell_type": "code",
   "execution_count": 14,
   "metadata": {
    "ExecuteTime": {
     "end_time": "2019-05-23T14:45:29.801550Z",
     "start_time": "2019-05-23T14:45:29.654939Z"
    },
    "code_folding": [
     1,
     7,
     20,
     33
    ]
   },
   "outputs": [],
   "source": [
    "\n",
    "def auc(y_true, y_pred):\n",
    "#     import tensorflow.keras.backend as K\n",
    "    auc = tf.metrics.AUC(y_true, y_pred)[1]\n",
    "    K.get_session().run(tf.local_variables_initializer())\n",
    "    return auc\n",
    "\n",
    "def recall(y_true, y_pred):\n",
    "    \"\"\"Recall metric.\n",
    "\n",
    "    Only computes a batch-wise average of recall.\n",
    "\n",
    "    Computes the recall, a metric for multi-label classification of\n",
    "    how many relevant items are selected.\n",
    "    \"\"\"\n",
    "    true_positives = K.sum(K.round(K.clip(y_true * y_pred, 0, 1)))\n",
    "    possible_positives = K.sum(K.round(K.clip(y_true, 0, 1)))\n",
    "    recall = true_positives / (possible_positives + K.epsilon())\n",
    "    return recall\n",
    "\n",
    "def precision(y_true, y_pred):\n",
    "    \"\"\"Precision metric.\n",
    "\n",
    "    Only computes a batch-wise average of precision.\n",
    "\n",
    "    Computes the precision, a metric for multi-label classification of\n",
    "    how many selected items are relevant.\n",
    "    \"\"\"\n",
    "    true_positives = K.sum(K.round(K.clip(y_true * y_pred, 0, 1)))\n",
    "    predicted_positives = K.sum(K.round(K.clip(y_pred, 0, 1)))\n",
    "    precision = true_positives / (predicted_positives + K.epsilon())\n",
    "    return precision\n",
    "\n",
    "def f1(y_true, y_pred):\n",
    "\n",
    "    \"\"\"\n",
    "    Imported from: https://stackoverflow.com/questions/43547402/how-to-calculate-f1-macro-in-keras\n",
    "    \"\"\"\n",
    "    \n",
    "    def recall(y_true, y_pred):\n",
    "        \n",
    "        \"\"\"Recall metric.\n",
    "\n",
    "        Only computes a batch-wise average of recall.\n",
    "\n",
    "        Computes the recall, a metric for multi-label classification of\n",
    "        how many relevant items are selected.\n",
    "\n",
    "        \"\"\"\n",
    "\n",
    "        true_positives = K.sum(K.round(K.clip(y_true * y_pred, 0, 1)))\n",
    "        possible_positives = K.sum(K.round(K.clip(y_true, 0, 1)))\n",
    "        recall = true_positives / (possible_positives + K.epsilon())\n",
    "        return recall\n",
    "\n",
    "    def precision(y_true, y_pred):\n",
    "        \n",
    "        \"\"\"Precision metric.\n",
    "\n",
    "        Only computes a batch-wise average of precision.\n",
    "\n",
    "        Computes the precision, a metric for multi-label classification of\n",
    "        how many selected items are relevant.\n",
    "        \"\"\"\n",
    "        true_positives = K.sum(K.round(K.clip(y_true * y_pred, 0, 1)))\n",
    "        predicted_positives = K.sum(K.round(K.clip(y_pred, 0, 1)))\n",
    "        precision = true_positives / (predicted_positives + K.epsilon())\n",
    "        return precision\n",
    "\n",
    "    precision = precision(y_true, y_pred)\n",
    "    recall = recall(y_true, y_pred)\n",
    "    f1 = 2*((precision*recall)/(precision+recall+K.epsilon()))\n",
    "    return f1\n",
    "\n",
    "\n",
    "OUTDIR = save_disk_path + 'models/' + str(model_name)\n",
    "\n",
    "shutil.rmtree(OUTDIR, ignore_errors = True) # start fresh each time\n",
    "if not os.path.exists(OUTDIR):\n",
    "    os.makedirs(OUTDIR)\n",
    "\n",
    "model_file = model_name +\"-{epoch:02d}.hdf5\"\n",
    "model_file_path = os.path.join(OUTDIR, model_file)\n",
    "\n",
    "train_steps = n_train // batch_size \n",
    "val_steps = n_val // batch_size\n",
    "test_steps = n_test // batch_size\n",
    "\n",
    "metric_monitoring = 'val_f1'\n",
    "metrics_list = [metrics.Accuracy, metrics.AUC, metrics.Precision, metrics.Recall, f1]\n",
    "\n",
    "csv_logger = CSVLogger(OUTDIR + '/log_file.log')\n",
    "early_stopper = EarlyStopping(monitor=metric_monitoring, patience=patience, verbose=1, mode = 'max')\n",
    "tensor_board = TensorBoard(log_dir=OUTDIR, histogram_freq=1, write_graph=True, write_images=True)\n",
    "modelcheckpt = ModelCheckpoint(model_file_path, monitor=metric_monitoring, save_best_only=True, mode='max')\n",
    "callbacks_list = [csv_logger, early_stopper, modelcheckpt, tensor_board]\n",
    "\n"
   ]
  },
  {
   "cell_type": "code",
   "execution_count": 15,
   "metadata": {
    "ExecuteTime": {
     "end_time": "2019-05-23T15:19:12.686449Z",
     "start_time": "2019-05-23T14:45:29.803086Z"
    },
    "scrolled": false
   },
   "outputs": [
    {
     "name": "stderr",
     "output_type": "stream",
     "text": [
      "W0523 15:45:29.869253 140735737680768 callbacks.py:1218] TensorBoard Callback will ignore `write_graph=True`when `Model.run_eagerly=True`.`\n"
     ]
    },
    {
     "name": "stdout",
     "output_type": "stream",
     "text": [
      "Epoch 1/20\n"
     ]
    },
    {
     "name": "stderr",
     "output_type": "stream",
     "text": [
      "W0523 15:45:30.088805 140735737680768 deprecation.py:323] From /anaconda3/envs/tf2_dev/lib/python3.6/site-packages/tensorflow/python/feature_column/feature_column_v2.py:3662: to_int64 (from tensorflow.python.ops.math_ops) is deprecated and will be removed in a future version.\n",
      "Instructions for updating:\n",
      "Use `tf.cast` instead.\n",
      "W0523 15:45:30.096725 140735737680768 deprecation.py:323] From /anaconda3/envs/tf2_dev/lib/python3.6/site-packages/tensorflow/python/feature_column/feature_column_v2.py:4307: IndicatorColumn._variable_shape (from tensorflow.python.feature_column.feature_column_v2) is deprecated and will be removed in a future version.\n",
      "Instructions for updating:\n",
      "The old _FeatureColumn APIs are being deprecated. Please use the new FeatureColumn APIs instead.\n",
      "W0523 15:45:30.097605 140735737680768 deprecation.py:323] From /anaconda3/envs/tf2_dev/lib/python3.6/site-packages/tensorflow/python/feature_column/feature_column_v2.py:4362: VocabularyFileCategoricalColumn._num_buckets (from tensorflow.python.feature_column.feature_column_v2) is deprecated and will be removed in a future version.\n",
      "Instructions for updating:\n",
      "The old _FeatureColumn APIs are being deprecated. Please use the new FeatureColumn APIs instead.\n"
     ]
    },
    {
     "name": "stdout",
     "output_type": "stream",
     "text": [
      "683/683 [==============================] - 72s 105ms/step - loss: 0.1009 - accuracy: 0.9772 - f1: 0.0272 - recall: 0.0342 - precision: 0.0538 - val_loss: 0.0423 - val_accuracy: 0.9850 - val_f1: 0.4645 - val_recall: 0.3813 - val_precision: 0.6475\n",
      "Epoch 2/20\n",
      "683/683 [==============================] - 71s 104ms/step - loss: 0.0416 - accuracy: 0.9835 - f1: 0.3320 - recall: 0.2838 - precision: 0.5551 - val_loss: 0.0356 - val_accuracy: 0.9854 - val_f1: 0.4366 - val_recall: 0.3335 - val_precision: 0.7024\n",
      "Epoch 3/20\n",
      "683/683 [==============================] - 63s 92ms/step - loss: 0.0376 - accuracy: 0.9847 - f1: 0.4363 - recall: 0.3790 - precision: 0.6329 - val_loss: 0.0349 - val_accuracy: 0.9863 - val_f1: 0.5819 - val_recall: 0.5484 - val_precision: 0.6520\n",
      "Epoch 4/20\n",
      "683/683 [==============================] - 69s 101ms/step - loss: 0.0362 - accuracy: 0.9850 - f1: 0.4714 - recall: 0.4214 - precision: 0.6375 - val_loss: 0.0356 - val_accuracy: 0.9856 - val_f1: 0.5950 - val_recall: 0.6023 - val_precision: 0.6108\n",
      "Epoch 5/20\n",
      "683/683 [==============================] - 60s 87ms/step - loss: 0.0349 - accuracy: 0.9854 - f1: 0.5000 - recall: 0.4514 - precision: 0.6589 - val_loss: 0.0346 - val_accuracy: 0.9856 - val_f1: 0.4199 - val_recall: 0.3093 - val_precision: 0.7302\n",
      "Epoch 6/20\n",
      "683/683 [==============================] - 50s 73ms/step - loss: 0.0348 - accuracy: 0.9853 - f1: 0.4968 - recall: 0.4595 - precision: 0.6493 - val_loss: 0.0358 - val_accuracy: 0.9848 - val_f1: 0.3845 - val_recall: 0.2780 - val_precision: 0.7112\n",
      "Epoch 7/20\n",
      "683/683 [==============================] - 46s 68ms/step - loss: 0.0341 - accuracy: 0.9856 - f1: 0.4848 - recall: 0.4340 - precision: 0.6535 - val_loss: 0.0332 - val_accuracy: 0.9868 - val_f1: 0.6041 - val_recall: 0.5742 - val_precision: 0.6699\n",
      "Epoch 8/20\n",
      "683/683 [==============================] - 51s 75ms/step - loss: 0.0330 - accuracy: 0.9859 - f1: 0.5220 - recall: 0.4759 - precision: 0.6528 - val_loss: 0.0397 - val_accuracy: 0.9822 - val_f1: 0.6050 - val_recall: 0.7676 - val_precision: 0.5127\n",
      "Epoch 9/20\n",
      "683/683 [==============================] - 46s 68ms/step - loss: 0.0320 - accuracy: 0.9860 - f1: 0.5234 - recall: 0.4793 - precision: 0.6563 - val_loss: 0.0362 - val_accuracy: 0.9868 - val_f1: 0.6057 - val_recall: 0.5819 - val_precision: 0.6655\n",
      "Epoch 10/20\n",
      "683/683 [==============================] - 969s 1s/step - loss: 0.0323 - accuracy: 0.9860 - f1: 0.5368 - recall: 0.4984 - precision: 0.6708 - val_loss: 0.0313 - val_accuracy: 0.9863 - val_f1: 0.5343 - val_recall: 0.4547 - val_precision: 0.6966\n",
      "Epoch 11/20\n",
      "683/683 [==============================] - 58s 84ms/step - loss: 0.0310 - accuracy: 0.9861 - f1: 0.5480 - recall: 0.5021 - precision: 0.6745 - val_loss: 0.0307 - val_accuracy: 0.9871 - val_f1: 0.5880 - val_recall: 0.5378 - val_precision: 0.6941\n",
      "Epoch 12/20\n",
      "683/683 [==============================] - 50s 74ms/step - loss: 0.0310 - accuracy: 0.9862 - f1: 0.5542 - recall: 0.5198 - precision: 0.6759 - val_loss: 0.0367 - val_accuracy: 0.9858 - val_f1: 0.6214 - val_recall: 0.6585 - val_precision: 0.6093\n",
      "Epoch 13/20\n",
      "683/683 [==============================] - 50s 74ms/step - loss: 0.0307 - accuracy: 0.9867 - f1: 0.5586 - recall: 0.5184 - precision: 0.6802 - val_loss: 0.0331 - val_accuracy: 0.9862 - val_f1: 0.5145 - val_recall: 0.4263 - val_precision: 0.7136\n",
      "Epoch 14/20\n",
      "683/683 [==============================] - 52s 76ms/step - loss: 0.0314 - accuracy: 0.9860 - f1: 0.5286 - recall: 0.4818 - precision: 0.6761 - val_loss: 0.0324 - val_accuracy: 0.9857 - val_f1: 0.4484 - val_recall: 0.3442 - val_precision: 0.7208\n",
      "Epoch 15/20\n",
      "683/683 [==============================] - 53s 77ms/step - loss: 0.0312 - accuracy: 0.9863 - f1: 0.5338 - recall: 0.4902 - precision: 0.6759 - val_loss: 0.0370 - val_accuracy: 0.9865 - val_f1: 0.5870 - val_recall: 0.5565 - val_precision: 0.6577\n",
      "Epoch 16/20\n",
      "683/683 [==============================] - 51s 74ms/step - loss: 0.0300 - accuracy: 0.9869 - f1: 0.5809 - recall: 0.5405 - precision: 0.7026 - val_loss: 0.0299 - val_accuracy: 0.9869 - val_f1: 0.5544 - val_recall: 0.4720 - val_precision: 0.7227\n",
      "Epoch 17/20\n",
      "683/683 [==============================] - 52s 75ms/step - loss: 0.0295 - accuracy: 0.9870 - f1: 0.5661 - recall: 0.5182 - precision: 0.6932 - val_loss: 0.0302 - val_accuracy: 0.9873 - val_f1: 0.6201 - val_recall: 0.5935 - val_precision: 0.6828\n",
      "Epoch 18/20\n",
      "683/683 [==============================] - 51s 75ms/step - loss: 0.0297 - accuracy: 0.9869 - f1: 0.5787 - recall: 0.5380 - precision: 0.6961 - val_loss: 0.0311 - val_accuracy: 0.9872 - val_f1: 0.6335 - val_recall: 0.6278 - val_precision: 0.6652\n",
      "Epoch 19/20\n",
      "683/683 [==============================] - 49s 71ms/step - loss: 0.0290 - accuracy: 0.9869 - f1: 0.5791 - recall: 0.5371 - precision: 0.6842 - val_loss: 0.0326 - val_accuracy: 0.9857 - val_f1: 0.6382 - val_recall: 0.7168 - val_precision: 0.5941\n",
      "Epoch 20/20\n",
      "683/683 [==============================] - 60s 88ms/step - loss: 0.0291 - accuracy: 0.9871 - f1: 0.5805 - recall: 0.5449 - precision: 0.6941 - val_loss: 0.0302 - val_accuracy: 0.9872 - val_f1: 0.6289 - val_recall: 0.6199 - val_precision: 0.6652\n"
     ]
    }
   ],
   "source": [
    "\n",
    "\n",
    "feature_layer = tf.keras.layers.DenseFeatures(tf_feature_cols)\n",
    "\n",
    "model = tf.keras.Sequential()\n",
    "model.add(feature_layer)\n",
    "model.add(tf.keras.layers.Dense(32, activation=\"relu\"))\n",
    "model.add(tf.keras.layers.Dense(64, activation=\"relu\"))\n",
    "model.add(tf.keras.layers.Dense(128, activation=\"relu\"))\n",
    "model.add(tf.keras.layers.Dense(64, activation=\"relu\"))\n",
    "model.add(tf.keras.layers.Dense(1, activation='sigmoid'))\n",
    "\n",
    "model.compile(optimizer='adam', loss='binary_crossentropy', metrics=['accuracy', f1, recall, precision])\n",
    "\n",
    "history = model.fit(train_data, steps_per_epoch=train_steps, epochs=n_epoch, validation_data=val_data, \n",
    "          validation_steps=val_steps, callbacks=callbacks_list)\n",
    "\n",
    "# Save last model \n",
    "model_file = model_name +\"_last_model.hdf5\"\n",
    "model_file_path = os.path.join(OUTDIR, model_file)\n",
    "model.save(model_file_path)\n",
    "\n",
    "results = history.history\n",
    "\n",
    "fname = OUTDIR + '/model_results.csv'\n",
    "pd.DataFrame(results).to_csv(fname, header=True, index=False)"
   ]
  },
  {
   "cell_type": "code",
   "execution_count": 16,
   "metadata": {
    "ExecuteTime": {
     "end_time": "2019-05-23T15:19:20.025621Z",
     "start_time": "2019-05-23T15:19:12.688364Z"
    }
   },
   "outputs": [
    {
     "data": {
      "text/plain": [
       "74752"
      ]
     },
     "execution_count": 16,
     "metadata": {},
     "output_type": "execute_result"
    }
   ],
   "source": [
    "predictions = model.predict(test_data, steps = test_steps)\n",
    "predictions = np.array([x[0] for x in predictions], dtype='float32')\n",
    "len(predictions)"
   ]
  },
  {
   "cell_type": "markdown",
   "metadata": {},
   "source": [
    "## Model plots"
   ]
  },
  {
   "cell_type": "code",
   "execution_count": 17,
   "metadata": {
    "ExecuteTime": {
     "end_time": "2019-05-23T15:19:20.401115Z",
     "start_time": "2019-05-23T15:19:20.027819Z"
    }
   },
   "outputs": [],
   "source": [
    "# Getting the label from test data set: reading from file.\n",
    "test_files = save_disk_path + 'data/sample/test_summarised*'\n",
    "y_test = dd.read_csv(urlpath=test_files, blocksize = None, \n",
    "                         storage_options={'token': path_service_account})['conversion'].compute()[:test_steps * batch_size]\n",
    "\n"
   ]
  },
  {
   "cell_type": "code",
   "execution_count": 18,
   "metadata": {
    "ExecuteTime": {
     "end_time": "2019-05-23T15:19:20.928367Z",
     "start_time": "2019-05-23T15:19:20.403535Z"
    },
    "code_folding": [
     2
    ]
   },
   "outputs": [
    {
     "data": {
      "image/png": "[encoded data removed]",
      "text/plain": [
       "<matplotlib.figure.Figure at 0x1c251aea20>"
      ]
     },
     "metadata": {},
     "output_type": "display_data"
    }
   ],
   "source": [
    "\n",
    "\n",
    "def plot_keras_results(results, OUTDIR, model_name, \n",
    "                  n_train, n_val, n_test,\n",
    "                  title_abbr=\"\", n_epochs=10,\n",
    "                  table = 'NA'):\n",
    "\n",
    "  table = table.split('_')[-1]\n",
    "  # table_val = table_val.split('_')[-1]\n",
    "  # table_test = table_test.split('_')[-1]\n",
    "    \n",
    "  fig = plt.figure(figsize=(14, 8))\n",
    "  plt.tight_layout(pad=1, w_pad=1, h_pad=1.0)\n",
    "\n",
    "  epochs = range(1, len(results['loss']) + 1)\n",
    "\n",
    "  plt.plot(epochs, results['accuracy'], label='Training Accuracy')\n",
    "  plt.plot(epochs, results['val_accuracy'], label='Validation Accuracy')\n",
    "  plt.plot(epochs, results['loss'], label='Training Loss')\n",
    "  plt.plot(epochs, results['val_accuracy'],  label='Validation loss')\n",
    "  plt.plot(epochs, results['f1'], label='Training F1 score')\n",
    "  plt.plot(epochs, results['val_f1'], label='Validation F1 score')\n",
    "\n",
    "  val_f1_max = round(np.max(results['val_f1']), 3)\n",
    "  val_acc_max = round(np.max(results['val_accuracy']), 3)\n",
    "\n",
    "  title = 'Training and Validation Loss / F1 ' + \\\n",
    "    '\\n Max Val F1 =  ' + str(val_f1_max) + '; Max Val Acc =  ' + str(val_acc_max)\n",
    "  title = title + \"\\nn_train = \" + str(n_train) + \"; n_val = \" + str(n_val) + \"; n_test = \" + str(n_test)\n",
    "  plt.title(title)\n",
    "\n",
    "  plt.xlabel('Epochs')\n",
    "  plt.ylabel('Loss / F1 / Accuracy ')\n",
    "  plt.legend()\n",
    "  \n",
    "  fname = OUTDIR + \"/\" + model_name + '_performance.png'\n",
    "  plt.savefig(fname)\n",
    "\n",
    "plot_keras_results(results, OUTDIR, model_name, title_abbr=\"\", n_epochs=10, \n",
    "                  n_train=n_train, n_val=n_val, n_test=n_test)"
   ]
  },
  {
   "cell_type": "code",
   "execution_count": 19,
   "metadata": {
    "ExecuteTime": {
     "end_time": "2019-05-23T15:19:21.189805Z",
     "start_time": "2019-05-23T15:19:20.930637Z"
    },
    "scrolled": false
   },
   "outputs": [
    {
     "data": {
      "image/png": "[encoded data removed]",
      "text/plain": [
       "<matplotlib.figure.Figure at 0x1c320e1240>"
      ]
     },
     "metadata": {},
     "output_type": "display_data"
    }
   ],
   "source": [
    "\n",
    "plt.figure(figsize=(14, 8))\n",
    "\n",
    "title_ = 'Predicted probabilities: ' + str(n_test) + ' test sessions' \n",
    "#             \"\\n{} converted sessions\".format(y_test.sum())\n",
    "pd.Series(predictions).plot(kind='hist', bins=20, title=title_)\n",
    "plt.xlabel('predicted probabilities')\n",
    "# plt.xlim([0,1])\n",
    "\n",
    "fname = OUTDIR + \"/\" + model_name + '_predicted_probabilities.png'\n",
    "plt.savefig(fname)"
   ]
  },
  {
   "cell_type": "code",
   "execution_count": 20,
   "metadata": {
    "ExecuteTime": {
     "end_time": "2019-05-23T15:19:21.470835Z",
     "start_time": "2019-05-23T15:19:21.192076Z"
    },
    "scrolled": false
   },
   "outputs": [
    {
     "data": {
      "image/png": "[encoded data removed]",
      "text/plain": [
       "<matplotlib.figure.Figure at 0x1c251f5780>"
      ]
     },
     "metadata": {},
     "output_type": "display_data"
    }
   ],
   "source": [
    "\n",
    "plt.figure(figsize=(14, 8))\n",
    "fpr, tpr, _ = roc_curve(y_test, predictions)\n",
    "plt.plot(fpr, tpr)\n",
    "title_ = 'ROC curve: ' + str(n_test) + ' test sessions; ' + \\\n",
    "        \"\\nMax Precision: {:.3f}; Max Recall: {:.3f};\".format(max(results['precision']), max(results['recall'])) + \\\n",
    "        \" Max Accuracy: {:.3f};\".format(max(results['accuracy']))\n",
    "plt.title(title_)\n",
    "plt.xlabel('false positive rate')\n",
    "plt.ylabel('true positive rate')\n",
    "plt.xlim(0,)\n",
    "plt.ylim(0,)\n",
    "# plt.show()\n",
    "\n",
    "fname = OUTDIR + \"/\" + model_name + '_roc_curve.png'\n",
    "plt.savefig(fname)\n"
   ]
  },
  {
   "cell_type": "code",
   "execution_count": 28,
   "metadata": {
    "ExecuteTime": {
     "end_time": "2019-05-23T15:21:10.870276Z",
     "start_time": "2019-05-23T15:21:10.866411Z"
    }
   },
   "outputs": [],
   "source": [
    "# del plot_confusion_matrix_from_data\n",
    "\n",
    "predictions = [round(pred) for pred in predictions]\n",
    "\n",
    "fname = OUTDIR + \"/\" + model_name + '_confusion_matrix.png'\n",
    "\n",
    "title_ = 'Google Analytics Conversion Prediction\\n' + model_name\n",
    "plot_confusion_matrix_from_data.plot_confusion_matrix_from_data(fname=fname, y_test = y_test, predictions = predictions, \n",
    "                                                                columns=['Non-Convert','Convert'], title=title_)\n",
    "\n",
    "\n"
   ]
  },
  {
   "cell_type": "code",
   "execution_count": 22,
   "metadata": {
    "ExecuteTime": {
     "end_time": "2019-05-23T15:19:26.087834Z",
     "start_time": "2019-05-23T15:19:22.180526Z"
    }
   },
   "outputs": [
    {
     "name": "stdout",
     "output_type": "stream",
     "text": [
      "\n",
      "\n",
      "Total time to run was 35.07 min = 0.57 hours.\n"
     ]
    }
   ],
   "source": [
    "command = \"gsutil -m cp -r \" + save_disk_path + \"models/\" + model_name  + \" gs://pp-ga-sessions/models/\" \n",
    "command = command + \" \\n rm -rf \" + save_disk_path + \"models/\" + model_name \n",
    "command = command + \"\\n gsutil -m cp -r \" + save_disk_path + \"models/\" + model_name + \"*.out \" +  \" gs://pp-ga-sessions/models/\" \n",
    "\n",
    "with open('command.sh', 'w') as the_file:\n",
    "    the_file.write(command)\n",
    "# Copy files to GCS    \n",
    "bashCommand = \"bash command.sh\"\n",
    "os.system(bashCommand)\n",
    "# Remove the command file\n",
    "bashCommand = \"rm command.sh\"\n",
    "os.system(bashCommand)\n",
    "\n",
    "\n",
    "time_total= time.time() - time_start\n",
    "print(\"\\n\\nTotal time to run was {} min = {} hours.\".format(round(time_total / 60, 2), round(time_total / 3660, 2)))\n",
    "\n"
   ]
  },
  {
   "cell_type": "markdown",
   "metadata": {},
   "source": [
    "# Playground"
   ]
  },
  {
   "cell_type": "code",
   "execution_count": 23,
   "metadata": {
    "ExecuteTime": {
     "end_time": "2019-05-23T15:19:26.097875Z",
     "start_time": "2019-05-23T15:19:26.089751Z"
    }
   },
   "outputs": [],
   "source": [
    "\n",
    "# df_test = dd.read_csv(urlpath=test_filepaths, blocksize = None, \n",
    "#                          storage_options={'token': path_service_account}).compute()\n",
    "\n",
    "# df_test.drop(column_drop, axis = 1, inplace=True)\n",
    "# y_test = df_test.pop(column_label)\n",
    "\n",
    "\n",
    "\n",
    "# def make_input_fn(X, y, n_epochs=None):\n",
    "# #     def input_fn():\n",
    "#     features = (dict(X), y)\n",
    "#     for feat in columns_cat:\n",
    "#         features[0][feat] = tf.cast(features[0][feat], tf.int32)\n",
    "\n",
    "#     for feat in columns_num:\n",
    "#         features[0][feat] = tf.cast(features[0][feat], tf.float32)\n",
    "\n",
    "#     dataset = tf.data.Dataset.from_tensor_slices(features)\n",
    "\n",
    "#     # For training, cycle thru dataset as many times as need (n_epochs=None).    \n",
    "#     dataset = dataset.repeat(n_epochs)  \n",
    "#     # In memory training doesn't use batching.\n",
    "\n",
    "#     dataset = dataset.batch(len(y))\n",
    "#     return dataset\n",
    "# #     return input_fn\n",
    "\n",
    "# # dataset = dataset.map(decode_csv, num_parallel_calls=n_parse_threads)\n",
    "# # dataset = dataset.repeat(num_epochs).batch(batch_size=batch_size)\n",
    "\n",
    "# # return dataset.prefetch(tf.data.experimental.AUTOTUNE)\n",
    "\n",
    "# test_data = make_input_fn(df_test, y_test)\n",
    "# next(iter(test_data))[0]['country']\n",
    "\n",
    "# predictions = model.predict(test_data, steps = 1)\n",
    "# predictions = np.array([x[0] for x in predictions], dtype='float32')"
   ]
  },
  {
   "cell_type": "code",
   "execution_count": 24,
   "metadata": {
    "ExecuteTime": {
     "end_time": "2019-05-23T15:19:26.104920Z",
     "start_time": "2019-05-23T15:19:26.099712Z"
    }
   },
   "outputs": [],
   "source": [
    "\n",
    "# plt.figure(figsize=(10,6))\n",
    "\n",
    "# title_ = 'Predicted probabilities: ' + str(n_test) + ' test sessions' \n",
    "# #             \"\\n{} converted sessions\".format(y_test.sum())\n",
    "# pd.Series(predictions).plot(kind='hist', bins=20, title=title_)\n",
    "# plt.xlabel('predicted probabilities')\n",
    "# # plt.xlim([0,1])\n",
    "\n",
    "# fname = OUTDIR + \"/\" + model_name + '_predicted_probabilities_2.png'\n",
    "# plt.savefig(fname)"
   ]
  },
  {
   "cell_type": "code",
   "execution_count": 25,
   "metadata": {
    "ExecuteTime": {
     "end_time": "2019-05-23T15:19:26.110275Z",
     "start_time": "2019-05-23T15:19:26.106882Z"
    }
   },
   "outputs": [],
   "source": [
    "\n",
    "\n",
    "# # del plot_confusion_matrix_from_data\n",
    "\n",
    "# predictions = [round(pred) for pred in predictions]\n",
    "# fname = OUTDIR + \"/\" + model_name + '_confusion_matrix_2.png'\n",
    "\n",
    "# title_ = 'Google Analytics Conversion Prediction\\n' + model_name\n",
    "# plot_confusion_matrix_from_data.plot_confusion_matrix_from_data(fname=fname, y_test = y_test, predictions = predictions, \n",
    "#                                                                 columns=['Non-Convert','Convert'], title=title_)\n",
    "\n",
    "\n"
   ]
  },
  {
   "cell_type": "code",
   "execution_count": 26,
   "metadata": {
    "ExecuteTime": {
     "end_time": "2019-05-23T15:19:26.117997Z",
     "start_time": "2019-05-23T15:19:26.112925Z"
    },
    "scrolled": false
   },
   "outputs": [],
   "source": [
    "# conf_mat = confusion_matrix(y_test, predictions)\n",
    "\n",
    "# import seaborn as sns\n",
    "# fig = plt.figure()\n",
    "# sns.heatmap(conf_mat, annot=True, fmt='d')\n",
    "# plt.ylabel('Actual')\n",
    "# plt.xlabel('Predicted')\n",
    "# title = \"Confusion Matrix; \" \n",
    "# plt.title(title)"
   ]
  },
  {
   "cell_type": "code",
   "execution_count": null,
   "metadata": {
    "ExecuteTime": {
     "end_time": "2019-05-23T14:04:59.586604Z",
     "start_time": "2019-05-23T14:04:59.573773Z"
    }
   },
   "outputs": [],
   "source": []
  },
  {
   "cell_type": "code",
   "execution_count": null,
   "metadata": {},
   "outputs": [],
   "source": []
  },
  {
   "cell_type": "code",
   "execution_count": null,
   "metadata": {},
   "outputs": [],
   "source": []
  },
  {
   "cell_type": "code",
   "execution_count": null,
   "metadata": {},
   "outputs": [],
   "source": [
    "\n",
    "\n",
    "\n",
    "\n",
    "\n",
    "\n",
    "\n",
    "\n",
    "\n",
    "\n",
    "\n"
   ]
  }
 ],
 "metadata": {
  "kernelspec": {
   "display_name": "Python 3",
   "language": "python",
   "name": "python3"
  },
  "language_info": {
   "codemirror_mode": {
    "name": "ipython",
    "version": 3
   },
   "file_extension": ".py",
   "mimetype": "text/x-python",
   "name": "python",
   "nbconvert_exporter": "python",
   "pygments_lexer": "ipython3",
   "version": "3.6.8"
  },
  "toc": {
   "base_numbering": 1,
   "nav_menu": {},
   "number_sections": false,
   "sideBar": true,
   "skip_h1_title": false,
   "title_cell": "Table of Contents",
   "title_sidebar": "Contents",
   "toc_cell": false,
   "toc_position": {
    "height": "calc(100% - 180px)",
    "left": "10px",
    "top": "150px",
    "width": "305px"
   },
   "toc_section_display": true,
   "toc_window_display": true
  },
  "varInspector": {
   "cols": {
    "lenName": 16,
    "lenType": 16,
    "lenVar": 40
   },
   "kernels_config": {
    "python": {
     "delete_cmd_postfix": "",
     "delete_cmd_prefix": "del ",
     "library": "var_list.py",
     "varRefreshCmd": "print(var_dic_list())"
    },
    "r": {
     "delete_cmd_postfix": ") ",
     "delete_cmd_prefix": "rm(",
     "library": "var_list.r",
     "varRefreshCmd": "cat(var_dic_list()) "
    }
   },
   "types_to_exclude": [
    "module",
    "function",
    "builtin_function_or_method",
    "instance",
    "_Feature"
   ],
   "window_display": false
  }
 },
 "nbformat": 4,
 "nbformat_minor": 2
}
